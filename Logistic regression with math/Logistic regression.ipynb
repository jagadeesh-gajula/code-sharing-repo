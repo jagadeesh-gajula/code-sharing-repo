{
 "cells": [
  {
   "cell_type": "code",
   "execution_count": 1,
   "id": "english-above",
   "metadata": {},
   "outputs": [],
   "source": [
    "import numpy as np\n",
    "import matplotlib.pyplot as plt\n",
    "import pandas as pd"
   ]
  },
  {
   "cell_type": "code",
   "execution_count": 2,
   "id": "extensive-audience",
   "metadata": {},
   "outputs": [],
   "source": [
    "z = np.arange(-10,10,0.01)"
   ]
  },
  {
   "cell_type": "code",
   "execution_count": 3,
   "id": "beneficial-mineral",
   "metadata": {},
   "outputs": [],
   "source": [
    "def sigmoid(z):\n",
    "    return 1/(1 + np.exp(-z))"
   ]
  },
  {
   "cell_type": "code",
   "execution_count": 4,
   "id": "about-lobby",
   "metadata": {},
   "outputs": [
    {
     "data": {
      "text/plain": [
       "[<matplotlib.lines.Line2D at 0x22df0a2e880>]"
      ]
     },
     "execution_count": 4,
     "metadata": {},
     "output_type": "execute_result"
    },
    {
     "data": {
      "image/png": "[encoded data removed]",
      "text/plain": [
       "<Figure size 432x288 with 1 Axes>"
      ]
     },
     "metadata": {
      "needs_background": "light"
     },
     "output_type": "display_data"
    }
   ],
   "source": [
    "plt.plot(range(len(z)),sigmoid(z))"
   ]
  },
  {
   "cell_type": "code",
   "execution_count": 5,
   "id": "documented-cholesterol",
   "metadata": {},
   "outputs": [],
   "source": [
    "data = pd.read_csv('test_data_hidden.csv')"
   ]
  },
  {
   "cell_type": "code",
   "execution_count": 6,
   "id": "following-craft",
   "metadata": {},
   "outputs": [],
   "source": [
    "x = data.drop('Class',axis=1)\n",
    "y = data.Class"
   ]
  },
  {
   "cell_type": "code",
   "execution_count": 7,
   "id": "driving-exposure",
   "metadata": {},
   "outputs": [],
   "source": [
    "y = y.values.reshape(y.shape[0],1)"
   ]
  },
  {
   "cell_type": "code",
   "execution_count": 9,
   "id": "killing-thousand",
   "metadata": {},
   "outputs": [
    {
     "data": {
      "text/plain": [
       "(56962, 30)"
      ]
     },
     "execution_count": 9,
     "metadata": {},
     "output_type": "execute_result"
    }
   ],
   "source": [
    "x.shape"
   ]
  },
  {
   "cell_type": "code",
   "execution_count": 19,
   "id": "racial-knock",
   "metadata": {},
   "outputs": [
    {
     "name": "stderr",
     "output_type": "stream",
     "text": [
      "<ipython-input-19-232ed5df6a09>:8: RuntimeWarning: divide by zero encountered in log\n",
      "  cost =  sum( (y * np.log(y_hat)) + ((1 - y) * np.log(1 - y_hat)) ) / x.shape[0]\n",
      "<ipython-input-19-232ed5df6a09>:8: RuntimeWarning: invalid value encountered in multiply\n",
      "  cost =  sum( (y * np.log(y_hat)) + ((1 - y) * np.log(1 - y_hat)) ) / x.shape[0]\n"
     ]
    },
    {
     "name": "stdout",
     "output_type": "stream",
     "text": [
      "[nan]\n",
      "[nan]\n",
      "[nan]\n",
      "[nan]\n",
      "[nan]\n",
      "[nan]\n",
      "[nan]\n",
      "[nan]\n",
      "[nan]\n",
      "[nan]\n"
     ]
    }
   ],
   "source": [
    "lr = 0.000000000001\n",
    "m = np.random.random((x.shape[1],1))\n",
    "b = 0\n",
    "\n",
    "for i in range(10):\n",
    "    z = np.dot(x,m)\n",
    "    y_hat = sigmoid(z)\n",
    "    cost =  sum( (y * np.log(y_hat)) + ((1 - y) * np.log(1 - y_hat)) ) / x.shape[0]\n",
    "    print(cost)\n",
    "    error = (y_hat - y)/x.shape[0]\n",
    "    gradient = np.dot(error.T,x)\n",
    "    m = m  - lr * gradient.T\n",
    "    \n",
    "    "
   ]
  },
  {
   "cell_type": "code",
   "execution_count": 11,
   "id": "refined-fields",
   "metadata": {},
   "outputs": [
    {
     "data": {
      "text/plain": [
       "(30, 1)"
      ]
     },
     "execution_count": 11,
     "metadata": {},
     "output_type": "execute_result"
    }
   ],
   "source": [
    "m = np.random.random((x.shape[1],1))\n",
    "m.shape"
   ]
  }
 ],
 "metadata": {
  "kernelspec": {
   "display_name": "Python 3",
   "language": "python",
   "name": "python3"
  },
  "language_info": {
   "codemirror_mode": {
    "name": "ipython",
    "version": 3
   },
   "file_extension": ".py",
   "mimetype": "text/x-python",
   "name": "python",
   "nbconvert_exporter": "python",
   "pygments_lexer": "ipython3",
   "version": "3.8.8"
  }
 },
 "nbformat": 4,
 "nbformat_minor": 5
}
