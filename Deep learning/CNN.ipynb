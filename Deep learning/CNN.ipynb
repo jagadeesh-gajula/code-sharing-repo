{
 "cells": [
  {
   "cell_type": "code",
   "execution_count": 35,
   "id": "48b48051",
   "metadata": {},
   "outputs": [],
   "source": [
    "import pyautogui\n",
    "from PIL import Image, ImageOps\n",
    "import numpy as np \n",
    "import matplotlib.pyplot as plt\n",
    "import cv2\n",
    "from tensorflow.keras.models import Sequential\n",
    "from tensorflow.keras.layers import Conv2D, AveragePooling2D,Dense,Flatten"
   ]
  },
  {
   "cell_type": "code",
   "execution_count": 39,
   "id": "36939ea0",
   "metadata": {},
   "outputs": [],
   "source": [
    "x = pyautogui.screenshot()\n",
    "x = ImageOps.grayscale(x)\n",
    "x = np.array(x)\n",
    "x = x.reshape((1,1080, 1920,1))"
   ]
  },
  {
   "cell_type": "code",
   "execution_count": 46,
   "id": "6aa270e6",
   "metadata": {},
   "outputs": [
    {
     "name": "stdout",
     "output_type": "stream",
     "text": [
      "Epoch 1/10\n",
      "WARNING:tensorflow:Model was constructed with shape (None, 1920, 1080, 1) for input Tensor(\"conv2d_10_input:0\", shape=(None, 1920, 1080, 1), dtype=float32), but it was called on an input with incompatible shape (None, 1080, 1920, 1).\n",
      "WARNING:tensorflow:Model was constructed with shape (None, 1920, 1080, 1) for input Tensor(\"conv2d_10_input:0\", shape=(None, 1920, 1080, 1), dtype=float32), but it was called on an input with incompatible shape (None, 1080, 1920, 1).\n",
      "1/1 [==============================] - 0s 3ms/step - loss: 0.4514 - accuracy: 0.0000e+00\n",
      "Epoch 2/10\n",
      "1/1 [==============================] - 0s 15ms/step - loss: 0.0000e+00 - accuracy: 1.0000\n",
      "Epoch 3/10\n",
      "1/1 [==============================] - 0s 15ms/step - loss: 0.0000e+00 - accuracy: 1.0000\n",
      "Epoch 4/10\n",
      "1/1 [==============================] - 0s 15ms/step - loss: 0.0000e+00 - accuracy: 1.0000\n",
      "Epoch 5/10\n",
      "1/1 [==============================] - 0s 16ms/step - loss: 0.0000e+00 - accuracy: 1.0000\n",
      "Epoch 6/10\n",
      "1/1 [==============================] - 0s 15ms/step - loss: 0.0000e+00 - accuracy: 1.0000\n",
      "Epoch 7/10\n",
      "1/1 [==============================] - 0s 14ms/step - loss: 0.0000e+00 - accuracy: 1.0000\n",
      "Epoch 8/10\n",
      "1/1 [==============================] - 0s 15ms/step - loss: 0.0000e+00 - accuracy: 1.0000\n",
      "Epoch 9/10\n",
      "1/1 [==============================] - 0s 15ms/step - loss: 0.0000e+00 - accuracy: 1.0000\n",
      "Epoch 10/10\n",
      "1/1 [==============================] - 0s 15ms/step - loss: 0.0000e+00 - accuracy: 1.0000\n",
      "Model: \"sequential_11\"\n",
      "_________________________________________________________________\n",
      "Layer (type)                 Output Shape              Param #   \n",
      "=================================================================\n",
      "conv2d_10 (Conv2D)           (None, 1918, 1078, 10)    100       \n",
      "_________________________________________________________________\n",
      "average_pooling2d_7 (Average (None, 639, 359, 10)      0         \n",
      "_________________________________________________________________\n",
      "flatten_6 (Flatten)          (None, 2294010)           0         \n",
      "_________________________________________________________________\n",
      "dense_6 (Dense)              (None, 1)                 2294011   \n",
      "=================================================================\n",
      "Total params: 2,294,111\n",
      "Trainable params: 2,294,111\n",
      "Non-trainable params: 0\n",
      "_________________________________________________________________\n"
     ]
    }
   ],
   "source": [
    "model = Sequential()\n",
    "\n",
    "model.add(Conv2D(10,kernel_size=(3,3),input_shape=(1920,1080,1),activation='sigmoid'))\n",
    "model.add(AveragePooling2D((3,3)))\n",
    "model.add(Flatten())\n",
    "model.add(Dense(1,activation='sigmoid'))\n",
    "\n",
    "model.compile(loss='binary_crossentropy',optimizer='adam',metrics=['Accuracy'])\n",
    "\n",
    "model.fit(x,np.array([1]),epochs=10)\n",
    "\n",
    "model.summary()"
   ]
  }
 ],
 "metadata": {
  "kernelspec": {
   "display_name": "Python 3",
   "language": "python",
   "name": "python3"
  },
  "language_info": {
   "codemirror_mode": {
    "name": "ipython",
    "version": 3
   },
   "file_extension": ".py",
   "mimetype": "text/x-python",
   "name": "python",
   "nbconvert_exporter": "python",
   "pygments_lexer": "ipython3",
   "version": "3.8.8"
  }
 },
 "nbformat": 4,
 "nbformat_minor": 5
}
