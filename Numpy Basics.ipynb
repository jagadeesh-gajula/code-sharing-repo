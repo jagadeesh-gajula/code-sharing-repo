{
 "cells": [
  {
   "cell_type": "code",
   "execution_count": 1,
   "metadata": {},
   "outputs": [],
   "source": [
    "import numpy as np"
   ]
  },
  {
   "cell_type": "code",
   "execution_count": 2,
   "metadata": {},
   "outputs": [],
   "source": [
    "x = np.random.randint(1,100,(5,5))"
   ]
  },
  {
   "cell_type": "code",
   "execution_count": 10,
   "metadata": {},
   "outputs": [
    {
     "data": {
      "text/plain": [
       "array([[40, 40, 55, 72, 14],\n",
       "       [32, 86, 92, 55, 70],\n",
       "       [64, 85, 37, 98, 24],\n",
       "       [97, 10, 35, 16, 82],\n",
       "       [57,  7, 20, 79, 74]])"
      ]
     },
     "execution_count": 10,
     "metadata": {},
     "output_type": "execute_result"
    }
   ],
   "source": [
    "x"
   ]
  },
  {
   "cell_type": "code",
   "execution_count": 7,
   "metadata": {},
   "outputs": [
    {
     "data": {
      "text/plain": [
       "array([[40, 40],\n",
       "       [32, 86],\n",
       "       [64, 85]])"
      ]
     },
     "execution_count": 7,
     "metadata": {},
     "output_type": "execute_result"
    }
   ],
   "source": [
    "x[0:3,0:2]"
   ]
  },
  {
   "cell_type": "code",
   "execution_count": 9,
   "metadata": {},
   "outputs": [
    {
     "data": {
      "text/plain": [
       "array([[40, 40, 55, 72, 14],\n",
       "       [32, 86, 92, 55, 70]])"
      ]
     },
     "execution_count": 9,
     "metadata": {},
     "output_type": "execute_result"
    }
   ],
   "source": [
    "x[being_row:ending_row , begin_col:ending_col]"
   ]
  },
  {
   "cell_type": "code",
   "execution_count": 16,
   "metadata": {},
   "outputs": [
    {
     "name": "stdout",
     "output_type": "stream",
     "text": [
      "[40 40 55 72]\n",
      "[32 86 92 55]\n",
      "[64 85 37 98]\n",
      "[97 10 35 16]\n",
      "[57  7 20 79]\n"
     ]
    }
   ],
   "source": [
    "for i in x[:,0:4]:\n",
    "    print(i)"
   ]
  },
  {
   "cell_type": "code",
   "execution_count": 21,
   "metadata": {},
   "outputs": [],
   "source": [
    "x = np.random.randint(1,100,(10,10))"
   ]
  },
  {
   "cell_type": "code",
   "execution_count": 22,
   "metadata": {},
   "outputs": [
    {
     "data": {
      "text/plain": [
       "array([[99,  7, 30, 98, 95, 49, 51, 78, 37, 19],\n",
       "       [85, 67, 90, 53, 79,  3, 16,  1, 40,  4],\n",
       "       [66, 45, 89, 28, 15,  7, 25, 42, 73, 76],\n",
       "       [66, 99, 99, 93, 60,  8, 99, 66, 20, 25],\n",
       "       [30, 77,  5, 91, 42,  6, 36, 24, 35, 86],\n",
       "       [17, 84, 96, 23, 59, 82, 68, 26, 81, 14],\n",
       "       [23, 26, 22, 63, 19, 27, 81, 51, 26, 92],\n",
       "       [35, 72, 61, 42, 40, 37,  5, 95, 69, 80],\n",
       "       [ 7, 97, 80, 19, 96,  5, 77, 87, 73, 53],\n",
       "       [63, 27,  1, 87, 19, 38,  2, 70, 72, 54]])"
      ]
     },
     "execution_count": 22,
     "metadata": {},
     "output_type": "execute_result"
    }
   ],
   "source": [
    "x"
   ]
  },
  {
   "cell_type": "code",
   "execution_count": 28,
   "metadata": {},
   "outputs": [
    {
     "data": {
      "text/plain": [
       "array([[99, 30, 95, 51, 37],\n",
       "       [85, 90, 79, 16, 40],\n",
       "       [66, 89, 15, 25, 73],\n",
       "       [66, 99, 60, 99, 20],\n",
       "       [30,  5, 42, 36, 35]])"
      ]
     },
     "execution_count": 28,
     "metadata": {},
     "output_type": "execute_result"
    }
   ],
   "source": [
    "x[0:5,begin_point::stepping_size]"
   ]
  },
  {
   "cell_type": "code",
   "execution_count": 33,
   "metadata": {},
   "outputs": [],
   "source": [
    "x = np.random.randint(1,100,(10,5))"
   ]
  },
  {
   "cell_type": "code",
   "execution_count": 32,
   "metadata": {},
   "outputs": [
    {
     "data": {
      "text/plain": [
       "array([[28,  8, 51, 55, 34, 11, 22, 60, 44, 86, 16, 39, 48, 23, 75, 83,\n",
       "         9, 95, 30, 54, 87, 85, 46, 80, 80],\n",
       "       [69, 87, 30, 62, 48, 96,  7, 54, 56, 20, 84, 32, 52, 25,  8, 27,\n",
       "        46, 60, 81, 62, 83, 40, 77, 25, 29]])"
      ]
     },
     "execution_count": 32,
     "metadata": {},
     "output_type": "execute_result"
    }
   ],
   "source": [
    "x.reshape(2,25)"
   ]
  },
  {
   "cell_type": "code",
   "execution_count": 39,
   "metadata": {},
   "outputs": [
    {
     "data": {
      "text/plain": [
       "array([[55, 64, 16, 78, 71],\n",
       "       [21, 22,  7, 36, 81],\n",
       "       [70, 95, 89,  1, 66],\n",
       "       [34, 22, 97, 26, 78],\n",
       "       [99, 29, 82, 87, 85],\n",
       "       [61, 10, 53, 20, 29],\n",
       "       [61, 52, 71, 63, 54],\n",
       "       [33, 76, 88, 93, 70],\n",
       "       [49, 53, 59, 90, 56],\n",
       "       [10, 41, 22, 41, 15]])"
      ]
     },
     "execution_count": 39,
     "metadata": {},
     "output_type": "execute_result"
    }
   ],
   "source": [
    "x"
   ]
  },
  {
   "cell_type": "code",
   "execution_count": 40,
   "metadata": {},
   "outputs": [
    {
     "data": {
      "text/plain": [
       "array([[55, 64, 16, 78, 71],\n",
       "       [21, 22,  7, 36, 81],\n",
       "       [70, 95, 89,  1, 66],\n",
       "       [34, 22, 97, 26, 78],\n",
       "       [99, 29, 82, 87, 85],\n",
       "       [61, 10, 53, 20, 29],\n",
       "       [61, 52, 71, 63, 54],\n",
       "       [33, 76, 88, 93, 70],\n",
       "       [49, 53, 59, 90, 56],\n",
       "       [10, 41, 22, 41, 15],\n",
       "       [55, 64, 16, 78, 71],\n",
       "       [21, 22,  7, 36, 81],\n",
       "       [70, 95, 89,  1, 66],\n",
       "       [34, 22, 97, 26, 78],\n",
       "       [99, 29, 82, 87, 85],\n",
       "       [61, 10, 53, 20, 29],\n",
       "       [61, 52, 71, 63, 54],\n",
       "       [33, 76, 88, 93, 70],\n",
       "       [49, 53, 59, 90, 56],\n",
       "       [10, 41, 22, 41, 15]])"
      ]
     },
     "execution_count": 40,
     "metadata": {},
     "output_type": "execute_result"
    }
   ],
   "source": [
    "np.vstack((x,x))"
   ]
  },
  {
   "cell_type": "code",
   "execution_count": 41,
   "metadata": {},
   "outputs": [],
   "source": [
    "x = np.random.randint(1,10,(10000,10000))"
   ]
  },
  {
   "cell_type": "code",
   "execution_count": 47,
   "metadata": {},
   "outputs": [
    {
     "data": {
      "text/plain": [
       "array([[729, 512, 343, ..., 125,   8, 216],\n",
       "       [512, 343, 125, ..., 512,  64, 216],\n",
       "       [512,   1,   1, ...,   1,  27,  27],\n",
       "       ...,\n",
       "       [ 64,  64, 729, ...,   1, 729,   1],\n",
       "       [729, 729, 216, ...,   8, 512, 343],\n",
       "       [216,   8,  64, ..., 512,  64, 125]], dtype=int32)"
      ]
     },
     "execution_count": 47,
     "metadata": {},
     "output_type": "execute_result"
    }
   ],
   "source": [
    "x ** 3"
   ]
  },
  {
   "cell_type": "code",
   "execution_count": 48,
   "metadata": {},
   "outputs": [],
   "source": [
    "for i in range(10000):\n",
    "    for j in range(10000):\n",
    "        x[i,j] = x[i,j] ** 3"
   ]
  }
 ],
 "metadata": {
  "kernelspec": {
   "display_name": "Python 3",
   "language": "python",
   "name": "python3"
  },
  "language_info": {
   "codemirror_mode": {
    "name": "ipython",
    "version": 3
   },
   "file_extension": ".py",
   "mimetype": "text/x-python",
   "name": "python",
   "nbconvert_exporter": "python",
   "pygments_lexer": "ipython3",
   "version": "3.8.3"
  }
 },
 "nbformat": 4,
 "nbformat_minor": 4
}
