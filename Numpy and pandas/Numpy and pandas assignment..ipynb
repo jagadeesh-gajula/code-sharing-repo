{
 "cells": [
  {
   "cell_type": "markdown",
   "metadata": {},
   "source": [
    "## Numpy and pandas assignment."
   ]
  },
  {
   "cell_type": "markdown",
   "metadata": {},
   "source": [
    "### Numpy questions"
   ]
  },
  {
   "cell_type": "code",
   "execution_count": 1,
   "metadata": {},
   "outputs": [],
   "source": [
    "# Import pandas and numpy. Code here..!\n"
   ]
  },
  {
   "cell_type": "code",
   "execution_count": 2,
   "metadata": {},
   "outputs": [],
   "source": [
    "# create a numpy array with shape 5 X 5\n"
   ]
  },
  {
   "cell_type": "code",
   "execution_count": 3,
   "metadata": {},
   "outputs": [],
   "source": [
    "# print numpy shape, dtype, itemsize, ndim\n"
   ]
  },
  {
   "cell_type": "code",
   "execution_count": 4,
   "metadata": {},
   "outputs": [],
   "source": [
    "# print first 2 rows and 2 column from numpy array\n"
   ]
  },
  {
   "cell_type": "code",
   "execution_count": 5,
   "metadata": {},
   "outputs": [],
   "source": [
    "# create numpy array with random integers and shape 10,10\n"
   ]
  },
  {
   "cell_type": "code",
   "execution_count": 6,
   "metadata": {},
   "outputs": [],
   "source": [
    "# reshape 5x5 numpy array into 10 X 5 array\n"
   ]
  },
  {
   "cell_type": "code",
   "execution_count": 7,
   "metadata": {},
   "outputs": [],
   "source": [
    "# stack two numpy array together horizantally or vertically\n"
   ]
  },
  {
   "cell_type": "code",
   "execution_count": 8,
   "metadata": {},
   "outputs": [],
   "source": [
    "# perform any operation between two numpy arrays ex, addition, dot product \n"
   ]
  },
  {
   "cell_type": "code",
   "execution_count": 9,
   "metadata": {},
   "outputs": [],
   "source": [
    "# perform any linear algebra operation ex determinant, eigen value, inverse\n"
   ]
  },
  {
   "cell_type": "code",
   "execution_count": 10,
   "metadata": {},
   "outputs": [],
   "source": [
    "# delete first 2 rows from a 2d numpy array\n"
   ]
  },
  {
   "cell_type": "markdown",
   "metadata": {},
   "source": [
    "### Pandas questions"
   ]
  },
  {
   "cell_type": "code",
   "execution_count": 11,
   "metadata": {},
   "outputs": [],
   "source": [
    "# create a pandas dataframe and pandas series \n"
   ]
  },
  {
   "cell_type": "code",
   "execution_count": 12,
   "metadata": {},
   "outputs": [],
   "source": [
    "# import the csv file attached with the python notebook\n"
   ]
  },
  {
   "cell_type": "code",
   "execution_count": 13,
   "metadata": {},
   "outputs": [],
   "source": [
    "# print shape,info,column names and first 5 rows\n"
   ]
  },
  {
   "cell_type": "code",
   "execution_count": 14,
   "metadata": {},
   "outputs": [],
   "source": [
    "# select rows from 3 to 10 and columns from 5 to 20\n"
   ]
  },
  {
   "cell_type": "code",
   "execution_count": 15,
   "metadata": {},
   "outputs": [],
   "source": [
    "# make any column as index \n"
   ]
  },
  {
   "cell_type": "code",
   "execution_count": 16,
   "metadata": {},
   "outputs": [],
   "source": [
    "# concat dataframes one upon the other ( you can use same dataframe twice )\n"
   ]
  },
  {
   "cell_type": "code",
   "execution_count": 17,
   "metadata": {},
   "outputs": [],
   "source": [
    "# merge two dataframes upon some identical column ( you can use same dataframe )\n"
   ]
  },
  {
   "cell_type": "code",
   "execution_count": 18,
   "metadata": {},
   "outputs": [],
   "source": [
    "# Use conditional selection to select few rows. ( condition is your choice )\n"
   ]
  },
  {
   "cell_type": "code",
   "execution_count": 19,
   "metadata": {},
   "outputs": [],
   "source": [
    "# demonstrate difference between location based and index based selection\n"
   ]
  },
  {
   "cell_type": "code",
   "execution_count": 20,
   "metadata": {},
   "outputs": [],
   "source": [
    "# convert a dataframe into numpy array and convert backto dataframe\n"
   ]
  },
  {
   "cell_type": "code",
   "execution_count": 51,
   "metadata": {
    "scrolled": false
   },
   "outputs": [
    {
     "name": "stdout",
     "output_type": "stream",
     "text": [
      "[[1 1 1 1 1 1 1 1 1 1]\n",
      " [1 1 1 1 1 1 1 1 1 1]\n",
      " [1 1 1 1 1 1 1 1 1 1]\n",
      " [1 1 1 0 0 0 0 0 0 0]\n",
      " [1 1 0 0 0 0 0 0 0 0]\n",
      " [1 0 0 0 0 0 0 0 0 0]\n",
      " [0 0 0 0 0 0 0 0 0 0]\n",
      " [0 0 0 0 0 0 0 0 0 0]\n",
      " [0 0 0 0 0 0 0 0 0 0]\n",
      " [0 0 0 0 0 0 0 0 0 0]]\n"
     ]
    }
   ],
   "source": [
    "import numpy as np\n",
    "\n",
    "grid = np.random.randint(0,2,(10,10))\n",
    "\n",
    "def fun(x):\n",
    "    if x == 1:\n",
    "        return 'T'\n",
    "    if x == 0:\n",
    "        return 'W'\n",
    "    \n",
    "con = np.vectorize(fun)\n",
    "grid = con(grid)\n",
    "\n",
    "#print(grid)\n",
    "\n",
    "selection = 'invalid'\n",
    "while selection == 'invalid':\n",
    "    random_selection = np.random.randint(0,5,(1,2))[0]\n",
    "    if grid[random_selection[0],random_selection[1]] == 'T':\n",
    "        selection = 'valid'\n",
    "    \n",
    "\n",
    "\n",
    "x=5\n",
    "y=5\n",
    "grid[x,y]=0\n",
    "\n",
    "def spread(grid,x,y):\n",
    "    grid[x,y]=0\n",
    "    if x-1 >= 0 and x-1 <= 10 and y-1 >= 0 and y-1 <= 10: #--\n",
    "        try:\n",
    "            grid[x-1,y-1]=0\n",
    "        except:\n",
    "            pass\n",
    "    if x+1 >= 0 and x+1 <= 10 and y+1 >= 0 and y+1 <= 10: #++\n",
    "        try:\n",
    "            grid[x+1,y+1]=0\n",
    "        except:\n",
    "            pass\n",
    "    if x+1 >= 0 and x+1 <= 10 and y-1 >= 0 and y-1 <= 10: #+-\n",
    "        try:\n",
    "            grid[x+1,y-1]=0\n",
    "        except:\n",
    "            pass\n",
    "    if x-1 >= 0 and x-1 <= 10 and y+1 >= 0 and y+1 <= 10: #_+\n",
    "        try:\n",
    "            grid[x-1,y+1]=0\n",
    "        except:\n",
    "            pass\n",
    "    if x-1 >= 0 and x-1 <= 10 and y >= 0 and y <= 10: #-\n",
    "        try:\n",
    "            grid[x-1,y]=0\n",
    "        except:\n",
    "            pass\n",
    "    if x >= 0 and x <= 10 and y-1 >= 0 and y-1 <= 10: # -\n",
    "        try:\n",
    "            grid[x,y-1]=0\n",
    "        except:\n",
    "            pass\n",
    "    if x+1 >= 0 and x+1 <= 10 and y >= 0 and y <= 10: #+\n",
    "        try:\n",
    "            grid[x+1,y]=0\n",
    "        except:\n",
    "            pass\n",
    "    if x >= 0 and x <= 10 and y+1 >= 0 and y+1 <= 10:\n",
    "        try:\n",
    "            grid[x,y+1]=0\n",
    "        except:\n",
    "            pass\n",
    "    return grid\n",
    "        \n",
    "grid = np.random.randint(1,2,(10,10))       \n",
    "grid = spread(grid,x,y)\n",
    "for i in range(grid.shape[0]):\n",
    "    for j in range(grid.shape[1]):\n",
    "        if grid[i,j]==0:\n",
    "            spread(grid,i,j)\n",
    "            \n",
    "            \n",
    "print(grid)            \n",
    "        \n",
    "\n",
    "\n",
    "    \n",
    "    \n",
    "\n",
    "    "
   ]
  }
 ],
 "metadata": {
  "kernelspec": {
   "display_name": "Python 3",
   "language": "python",
   "name": "python3"
  },
  "language_info": {
   "codemirror_mode": {
    "name": "ipython",
    "version": 3
   },
   "file_extension": ".py",
   "mimetype": "text/x-python",
   "name": "python",
   "nbconvert_exporter": "python",
   "pygments_lexer": "ipython3",
   "version": "3.7.4"
  }
 },
 "nbformat": 4,
 "nbformat_minor": 2
}
