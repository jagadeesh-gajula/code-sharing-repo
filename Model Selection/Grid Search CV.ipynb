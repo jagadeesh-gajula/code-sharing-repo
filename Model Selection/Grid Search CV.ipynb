{
 "cells": [
  {
   "cell_type": "code",
   "execution_count": 23,
   "id": "subject-copper",
   "metadata": {
    "scrolled": false
   },
   "outputs": [
    {
     "name": "stdout",
     "output_type": "stream",
     "text": [
      "Wall time: 5.99 s\n"
     ]
    },
    {
     "data": {
      "text/plain": [
       "GridSearchCV(cv=49, estimator=SVC(), n_jobs=1,\n",
       "             param_grid={'C': (1, 2, 3, 4, 5, 6, 7, 8, 9, 10, 20, 30, 40),\n",
       "                         'gamma': (0.1, 0.2, 0.4),\n",
       "                         'kernel': ('rbf', 'linear')},\n",
       "             scoring='accuracy')"
      ]
     },
     "execution_count": 23,
     "metadata": {},
     "output_type": "execute_result"
    }
   ],
   "source": [
    "%%time\n",
    "from sklearn.datasets import load_iris\n",
    "from sklearn.tree import DecisionTreeClassifier\n",
    "from sklearn.model_selection import GridSearchCV\n",
    "from sklearn.svm import SVC\n",
    "\n",
    "\n",
    "data = load_iris()\n",
    "x = data.data\n",
    "y = data.target\n",
    "parameters = {'criterion':('gini','entropy'),'max_depth':(1,2,3,4,5,6,7,8,9),'min_samples_split':(2,3,4,5),'min_samples_leaf':(2,3,4,5)}\n",
    "svm_parameters = {'C':(1,2,3,4,5,6,7,8,9,10,20,30,40),'kernel':('rbf','linear'),'gamma':(0.1,0.2,0.4)}\n",
    "\n",
    "tree = DecisionTreeClassifier()\n",
    "svm = SVC()\n",
    "clf = GridSearchCV(svm,param_grid=svm_parameters,cv=49,n_jobs=1,scoring='accuracy')\n",
    "\n",
    "clf.fit(x,y)\n"
   ]
  },
  {
   "cell_type": "code",
   "execution_count": 24,
   "id": "dried-joint",
   "metadata": {},
   "outputs": [
    {
     "data": {
      "text/plain": [
       "{'C': 2, 'gamma': 0.1, 'kernel': 'rbf'}"
      ]
     },
     "execution_count": 24,
     "metadata": {},
     "output_type": "execute_result"
    }
   ],
   "source": [
    "clf.best_params_"
   ]
  }
 ],
 "metadata": {
  "kernelspec": {
   "display_name": "Python 3",
   "language": "python",
   "name": "python3"
  },
  "language_info": {
   "codemirror_mode": {
    "name": "ipython",
    "version": 3
   },
   "file_extension": ".py",
   "mimetype": "text/x-python",
   "name": "python",
   "nbconvert_exporter": "python",
   "pygments_lexer": "ipython3",
   "version": "3.8.8"
  }
 },
 "nbformat": 4,
 "nbformat_minor": 5
}
