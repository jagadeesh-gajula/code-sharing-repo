{
 "cells": [
  {
   "cell_type": "code",
   "execution_count": 1,
   "id": "enhanced-tradition",
   "metadata": {},
   "outputs": [],
   "source": [
    "import pandas as pd"
   ]
  },
  {
   "cell_type": "code",
   "execution_count": 27,
   "id": "colored-empire",
   "metadata": {},
   "outputs": [],
   "source": [
    "data = pd.read_csv('Housing.csv')\n",
    "data = pd.get_dummies(data)"
   ]
  },
  {
   "cell_type": "code",
   "execution_count": 28,
   "id": "congressional-affiliation",
   "metadata": {},
   "outputs": [],
   "source": [
    "y = data.price\n",
    "x = data.drop('price',axis=1)"
   ]
  },
  {
   "cell_type": "code",
   "execution_count": 29,
   "id": "tutorial-pendant",
   "metadata": {},
   "outputs": [],
   "source": [
    "from sklearn.model_selection import train_test_split\n",
    "\n",
    "\n",
    "x_train,x_test,y_train,y_test = train_test_split(x,y,test_size=0.2)"
   ]
  },
  {
   "cell_type": "code",
   "execution_count": 32,
   "id": "legitimate-privacy",
   "metadata": {
    "collapsed": true
   },
   "outputs": [
    {
     "data": {
      "text/plain": [
       "array([3498769.79627251, 6172160.08535002, 6370263.42187054,\n",
       "       8254058.54042522, 4847724.26003473, 6109235.10801528,\n",
       "       4660238.62326632, 3924542.21022079, 5612299.75839113,\n",
       "       4131091.61510338, 2620558.73951168, 7149654.21282747,\n",
       "       2439357.57730491, 4815988.70614043, 3929089.1597884 ,\n",
       "       5120021.59381373, 6162566.9962237 , 6033459.70663397,\n",
       "       5750890.73123602, 8258384.77749748, 2818275.73667092,\n",
       "       3932196.64762974, 6136094.8507464 , 3254125.84118471,\n",
       "       6484011.76258282, 3705123.05415743, 3298034.97514927,\n",
       "       4124595.5448168 , 3402721.0148573 , 6495424.00859993,\n",
       "       6497675.58906935, 2786484.63563255, 4070867.62991534,\n",
       "       3791560.35310894, 3895490.69055842, 3676783.75065181,\n",
       "       2777293.86928113, 3163379.38671717, 7353765.62488762,\n",
       "       3233048.80915707, 3767837.63092251, 3297596.32739056,\n",
       "       7790395.90180212, 3352228.65555298, 4076458.74467347,\n",
       "       4662742.04002138, 3784834.45703936, 4952051.00381563,\n",
       "       4909367.97858316, 5076969.40274372, 7406048.82664909,\n",
       "       6421577.6957525 , 4454653.7359761 , 4973417.91069534,\n",
       "       4854091.94350784, 3864225.77635052, 5388307.18474842,\n",
       "       5050086.55965012, 2389227.12997142, 3523935.68750088,\n",
       "       2674566.6054183 , 3875420.38673415, 4706614.28339509,\n",
       "       3674236.00998336, 5075134.76264123, 3219531.18535696,\n",
       "       6422571.17484364, 8155871.95339423, 5003375.23841312,\n",
       "       3241545.85925795, 6863690.35057796, 6148075.3236716 ,\n",
       "       5099772.75347838, 3366527.24366916, 4142870.11140846,\n",
       "       3544175.37518862, 2917241.72671906, 3111468.88744267,\n",
       "       4026494.83092785, 4782762.00136202, 6717072.76327698,\n",
       "       7164547.58389035, 3254553.55643948, 5404552.94747922,\n",
       "       2662183.37049257, 2949013.77341261, 4949412.09463158,\n",
       "       2500887.92544162, 5856404.56198888, 9205075.85037033,\n",
       "       4083543.54163861, 3884440.39643687, 5115492.77031079,\n",
       "       3955580.13699995, 3442645.2013843 , 5528818.77074245,\n",
       "       5172093.67589931, 4229835.12113847, 4447035.35239054,\n",
       "       9903994.79777091, 4370186.25935987, 4455817.27545087,\n",
       "       6638677.20180214, 4674943.93499921, 4604653.24013624,\n",
       "       5032581.295821  , 6591175.20307077, 5071684.44813795,\n",
       "       6611900.77594733])"
      ]
     },
     "execution_count": 32,
     "metadata": {},
     "output_type": "execute_result"
    }
   ],
   "source": [
    "from sklearn.linear_model import LinearRegression\n",
    "\n",
    "\n",
    "reg  = LinearRegression()\n",
    "\n",
    "\n",
    "reg.fit(x_train,y_train)\n",
    "\n",
    "\n"
   ]
  },
  {
   "cell_type": "code",
   "execution_count": 34,
   "id": "minimal-territory",
   "metadata": {},
   "outputs": [
    {
     "data": {
      "text/plain": [
       "0.5756468228382721"
      ]
     },
     "execution_count": 34,
     "metadata": {},
     "output_type": "execute_result"
    }
   ],
   "source": [
    "from sklearn.metrics import r2_score\n",
    "\n",
    "r2_score(reg.predict(x_train),y_train)"
   ]
  },
  {
   "cell_type": "code",
   "execution_count": 35,
   "id": "distinct-hollow",
   "metadata": {},
   "outputs": [
    {
     "data": {
      "text/plain": [
       "0.4027706985186764"
      ]
     },
     "execution_count": 35,
     "metadata": {},
     "output_type": "execute_result"
    }
   ],
   "source": [
    "r2_score(reg.predict(x_test),y_test)"
   ]
  }
 ],
 "metadata": {
  "kernelspec": {
   "display_name": "Python 3",
   "language": "python",
   "name": "python3"
  },
  "language_info": {
   "codemirror_mode": {
    "name": "ipython",
    "version": 3
   },
   "file_extension": ".py",
   "mimetype": "text/x-python",
   "name": "python",
   "nbconvert_exporter": "python",
   "pygments_lexer": "ipython3",
   "version": "3.8.8"
  }
 },
 "nbformat": 4,
 "nbformat_minor": 5
}
