{
 "cells": [
  {
   "cell_type": "code",
   "execution_count": 1,
   "id": "cubic-worthy",
   "metadata": {},
   "outputs": [],
   "source": [
    "import pandas as pd\n",
    "import numpy as np"
   ]
  },
  {
   "cell_type": "code",
   "execution_count": 3,
   "id": "cardiovascular-healing",
   "metadata": {},
   "outputs": [],
   "source": [
    "data = pd.read_csv('usedcars.csv')"
   ]
  },
  {
   "cell_type": "code",
   "execution_count": 8,
   "id": "retained-employer",
   "metadata": {},
   "outputs": [],
   "source": [
    "from sklearn.preprocessing import LabelEncoder\n",
    "\n",
    "data = data.apply(lambda x:LabelEncoder().fit_transform(x))"
   ]
  },
  {
   "cell_type": "code",
   "execution_count": 39,
   "id": "geological-challenge",
   "metadata": {},
   "outputs": [],
   "source": [
    "y = data.price\n",
    "x = data.drop('price',axis=1)"
   ]
  },
  {
   "cell_type": "code",
   "execution_count": 40,
   "id": "boolean-enemy",
   "metadata": {},
   "outputs": [],
   "source": [
    "y = y.values.reshape((150,1))"
   ]
  },
  {
   "cell_type": "code",
   "execution_count": 41,
   "id": "broadband-hostel",
   "metadata": {},
   "outputs": [],
   "source": [
    "m = np.zeros((data.shape[1]-1,1))"
   ]
  },
  {
   "cell_type": "code",
   "execution_count": 42,
   "id": "addressed-currency",
   "metadata": {},
   "outputs": [
    {
     "name": "stdout",
     "output_type": "stream",
     "text": [
      "[699431.]\n",
      "[4.96803611e+13]\n",
      "[1.38331926e+30]\n",
      "[1.08173579e+63]\n",
      "[6.61504628e+128]\n",
      "[2.47375289e+260]\n",
      "[inf]\n",
      "[nan]\n",
      "[nan]\n",
      "[nan]\n"
     ]
    },
    {
     "name": "stderr",
     "output_type": "stream",
     "text": [
      "<ipython-input-42-13968dc69699>:4: RuntimeWarning: overflow encountered in square\n",
      "  cost = sum((pred-y)**2)\n",
      "<ipython-input-42-13968dc69699>:6: RuntimeWarning: overflow encountered in square\n",
      "  error = (pred-y)**2\n"
     ]
    }
   ],
   "source": [
    "lr = 0.0001\n",
    "for i in range(10):\n",
    "    pred = np.dot(x,m)\n",
    "    cost = sum((pred-y)**2)\n",
    "    print(cost)\n",
    "    error = (pred-y)**2\n",
    "    gradient  = 2 * np.dot(x.T,error)\n",
    "    m = m - lr * gradient\n",
    "    \n",
    "    "
   ]
  },
  {
   "cell_type": "code",
   "execution_count": 30,
   "id": "accompanied-breakfast",
   "metadata": {},
   "outputs": [],
   "source": []
  },
  {
   "cell_type": "code",
   "execution_count": 34,
   "id": "competitive-conjunction",
   "metadata": {},
   "outputs": [],
   "source": []
  }
 ],
 "metadata": {
  "kernelspec": {
   "display_name": "Python 3",
   "language": "python",
   "name": "python3"
  },
  "language_info": {
   "codemirror_mode": {
    "name": "ipython",
    "version": 3
   },
   "file_extension": ".py",
   "mimetype": "text/x-python",
   "name": "python",
   "nbconvert_exporter": "python",
   "pygments_lexer": "ipython3",
   "version": "3.8.8"
  }
 },
 "nbformat": 4,
 "nbformat_minor": 5
}
