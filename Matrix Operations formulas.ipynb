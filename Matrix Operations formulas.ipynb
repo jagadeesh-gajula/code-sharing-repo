{
 "cells": [
  {
   "cell_type": "code",
   "execution_count": 1,
   "id": "sporting-cedar",
   "metadata": {},
   "outputs": [],
   "source": [
    "import numpy as np"
   ]
  },
  {
   "cell_type": "code",
   "execution_count": 2,
   "id": "armed-minimum",
   "metadata": {},
   "outputs": [],
   "source": [
    "A = np.random.randint(1,10,(5,5))\n",
    "B = np.random.randint(1,10,(5,5))\n",
    "C = np.random.randint(1,10,(5,5))"
   ]
  },
  {
   "cell_type": "code",
   "execution_count": 3,
   "id": "peripheral-divorce",
   "metadata": {},
   "outputs": [],
   "source": [
    "r , s = 5 , 4"
   ]
  },
  {
   "cell_type": "code",
   "execution_count": 4,
   "id": "indirect-transcription",
   "metadata": {},
   "outputs": [],
   "source": [
    "zero = np.zeros((5,5))"
   ]
  },
  {
   "cell_type": "code",
   "execution_count": 5,
   "id": "further-collector",
   "metadata": {},
   "outputs": [
    {
     "data": {
      "text/plain": [
       "array([[ True,  True,  True,  True,  True],\n",
       "       [ True,  True,  True,  True,  True],\n",
       "       [ True,  True,  True,  True,  True],\n",
       "       [ True,  True,  True,  True,  True],\n",
       "       [ True,  True,  True,  True,  True]])"
      ]
     },
     "execution_count": 5,
     "metadata": {},
     "output_type": "execute_result"
    }
   ],
   "source": [
    "(A + B) == (B + A)"
   ]
  },
  {
   "cell_type": "code",
   "execution_count": 6,
   "id": "double-overall",
   "metadata": {},
   "outputs": [
    {
     "data": {
      "text/plain": [
       "array([[ True,  True,  True,  True,  True],\n",
       "       [ True,  True,  True,  True,  True],\n",
       "       [ True,  True,  True,  True,  True],\n",
       "       [ True,  True,  True,  True,  True],\n",
       "       [ True,  True,  True,  True,  True]])"
      ]
     },
     "execution_count": 6,
     "metadata": {},
     "output_type": "execute_result"
    }
   ],
   "source": [
    "(A + B) + C == A + (B + C)"
   ]
  },
  {
   "cell_type": "code",
   "execution_count": 7,
   "id": "regulation-flash",
   "metadata": {},
   "outputs": [
    {
     "data": {
      "text/plain": [
       "array([[ True,  True,  True,  True,  True],\n",
       "       [ True,  True,  True,  True,  True],\n",
       "       [ True,  True,  True,  True,  True],\n",
       "       [ True,  True,  True,  True,  True],\n",
       "       [ True,  True,  True,  True,  True]])"
      ]
     },
     "execution_count": 7,
     "metadata": {},
     "output_type": "execute_result"
    }
   ],
   "source": [
    "A + zero == A"
   ]
  },
  {
   "cell_type": "code",
   "execution_count": 8,
   "id": "induced-canberra",
   "metadata": {},
   "outputs": [
    {
     "data": {
      "text/plain": [
       "array([[ True,  True,  True,  True,  True],\n",
       "       [ True,  True,  True,  True,  True],\n",
       "       [ True,  True,  True,  True,  True],\n",
       "       [ True,  True,  True,  True,  True],\n",
       "       [ True,  True,  True,  True,  True]])"
      ]
     },
     "execution_count": 8,
     "metadata": {},
     "output_type": "execute_result"
    }
   ],
   "source": [
    "r * (A +B) == r*A + r*B"
   ]
  },
  {
   "cell_type": "code",
   "execution_count": 9,
   "id": "approximate-quantity",
   "metadata": {},
   "outputs": [
    {
     "data": {
      "text/plain": [
       "array([[ True,  True,  True,  True,  True],\n",
       "       [ True,  True,  True,  True,  True],\n",
       "       [ True,  True,  True,  True,  True],\n",
       "       [ True,  True,  True,  True,  True],\n",
       "       [ True,  True,  True,  True,  True]])"
      ]
     },
     "execution_count": 9,
     "metadata": {},
     "output_type": "execute_result"
    }
   ],
   "source": [
    "r * (s * A) == (r * s) * A"
   ]
  },
  {
   "cell_type": "code",
   "execution_count": 10,
   "id": "first-march",
   "metadata": {},
   "outputs": [
    {
     "data": {
      "text/plain": [
       "array([[ True,  True,  True,  True,  True],\n",
       "       [ True,  True,  True,  True,  True],\n",
       "       [ True,  True,  True,  True,  True],\n",
       "       [ True,  True,  True,  True,  True],\n",
       "       [ True,  True,  True,  True,  True]])"
      ]
     },
     "execution_count": 10,
     "metadata": {},
     "output_type": "execute_result"
    }
   ],
   "source": [
    "(A * B) * C == A * (B * C)"
   ]
  },
  {
   "cell_type": "code",
   "execution_count": 11,
   "id": "pretty-violence",
   "metadata": {},
   "outputs": [
    {
     "data": {
      "text/plain": [
       "array([[ True,  True,  True,  True,  True],\n",
       "       [ True,  True,  True,  True,  True],\n",
       "       [ True,  True,  True,  True,  True],\n",
       "       [ True,  True,  True,  True,  True],\n",
       "       [ True,  True,  True,  True,  True]])"
      ]
     },
     "execution_count": 11,
     "metadata": {},
     "output_type": "execute_result"
    }
   ],
   "source": [
    "A * (B + C) == A*B + A*C"
   ]
  },
  {
   "cell_type": "code",
   "execution_count": 12,
   "id": "popular-mortgage",
   "metadata": {},
   "outputs": [
    {
     "data": {
      "text/plain": [
       "array([[ True,  True,  True,  True,  True],\n",
       "       [ True,  True,  True,  True,  True],\n",
       "       [ True,  True,  True,  True,  True],\n",
       "       [ True,  True,  True,  True,  True],\n",
       "       [ True,  True,  True,  True,  True]])"
      ]
     },
     "execution_count": 12,
     "metadata": {},
     "output_type": "execute_result"
    }
   ],
   "source": [
    "r * ( A * B) == (r * A) * B"
   ]
  },
  {
   "cell_type": "code",
   "execution_count": 13,
   "id": "stock-coating",
   "metadata": {},
   "outputs": [
    {
     "data": {
      "text/plain": [
       "array([[ True,  True,  True,  True,  True],\n",
       "       [ True,  True,  True,  True,  True],\n",
       "       [ True,  True,  True,  True,  True],\n",
       "       [ True,  True,  True,  True,  True],\n",
       "       [ True,  True,  True,  True,  True]])"
      ]
     },
     "execution_count": 13,
     "metadata": {},
     "output_type": "execute_result"
    }
   ],
   "source": [
    "r * ( A * B) == A * (r * B)"
   ]
  },
  {
   "cell_type": "code",
   "execution_count": 14,
   "id": "small-scottish",
   "metadata": {},
   "outputs": [],
   "source": [
    "I = np.eye(5)"
   ]
  },
  {
   "cell_type": "code",
   "execution_count": 15,
   "id": "substantial-lincoln",
   "metadata": {},
   "outputs": [
    {
     "data": {
      "text/plain": [
       "array([[ True,  True,  True,  True,  True],\n",
       "       [ True,  True,  True,  True,  True],\n",
       "       [ True,  True,  True,  True,  True],\n",
       "       [ True,  True,  True,  True,  True],\n",
       "       [ True,  True,  True,  True,  True]])"
      ]
     },
     "execution_count": 15,
     "metadata": {},
     "output_type": "execute_result"
    }
   ],
   "source": [
    "np.dot(A,I) == A"
   ]
  },
  {
   "cell_type": "code",
   "execution_count": 19,
   "id": "accepting-observation",
   "metadata": {},
   "outputs": [
    {
     "data": {
      "text/plain": [
       "array([[ True,  True,  True,  True,  True],\n",
       "       [ True,  True,  True,  True,  True],\n",
       "       [ True,  True,  True,  True,  True],\n",
       "       [ True,  True,  True,  True,  True],\n",
       "       [ True,  True,  True,  True,  True]])"
      ]
     },
     "execution_count": 19,
     "metadata": {},
     "output_type": "execute_result"
    }
   ],
   "source": [
    "A.T.T == A"
   ]
  },
  {
   "cell_type": "code",
   "execution_count": 20,
   "id": "handed-friend",
   "metadata": {},
   "outputs": [
    {
     "data": {
      "text/plain": [
       "array([[ True,  True,  True,  True,  True],\n",
       "       [ True,  True,  True,  True,  True],\n",
       "       [ True,  True,  True,  True,  True],\n",
       "       [ True,  True,  True,  True,  True],\n",
       "       [ True,  True,  True,  True,  True]])"
      ]
     },
     "execution_count": 20,
     "metadata": {},
     "output_type": "execute_result"
    }
   ],
   "source": [
    "(A +B).T == A.T + B.T"
   ]
  },
  {
   "cell_type": "code",
   "execution_count": 21,
   "id": "dimensional-collar",
   "metadata": {},
   "outputs": [
    {
     "data": {
      "text/plain": [
       "array([[ True,  True,  True,  True,  True],\n",
       "       [ True,  True,  True,  True,  True],\n",
       "       [ True,  True,  True,  True,  True],\n",
       "       [ True,  True,  True,  True,  True],\n",
       "       [ True,  True,  True,  True,  True]])"
      ]
     },
     "execution_count": 21,
     "metadata": {},
     "output_type": "execute_result"
    }
   ],
   "source": [
    "(r*A).T == r*A.T"
   ]
  },
  {
   "cell_type": "code",
   "execution_count": 22,
   "id": "cellular-gilbert",
   "metadata": {},
   "outputs": [
    {
     "data": {
      "text/plain": [
       "array([[ True,  True,  True,  True,  True],\n",
       "       [ True,  True,  True,  True,  True],\n",
       "       [ True,  True,  True,  True,  True],\n",
       "       [ True,  True,  True,  True,  True],\n",
       "       [ True,  True,  True,  True,  True]])"
      ]
     },
     "execution_count": 22,
     "metadata": {},
     "output_type": "execute_result"
    }
   ],
   "source": [
    "(A*B).T == A.T * B.T"
   ]
  },
  {
   "cell_type": "code",
   "execution_count": 24,
   "id": "uniform-release",
   "metadata": {},
   "outputs": [
    {
     "data": {
      "text/plain": [
       "array([[ True,  True,  True,  True,  True],\n",
       "       [ True,  True,  True,  True,  True],\n",
       "       [ True,  True,  True,  True,  True],\n",
       "       [ True,  True,  True,  True,  True],\n",
       "       [ True,  True,  True,  True,  True]])"
      ]
     },
     "execution_count": 24,
     "metadata": {},
     "output_type": "execute_result"
    }
   ],
   "source": [
    "I.T == I"
   ]
  },
  {
   "cell_type": "code",
   "execution_count": 33,
   "id": "subject-bahamas",
   "metadata": {},
   "outputs": [
    {
     "data": {
      "text/plain": [
       "array([[False, False, False, False, False],\n",
       "       [False, False, False, False, False],\n",
       "       [False, False, False, False, False],\n",
       "       [False, False, False, False, False],\n",
       "       [False, False, False, False, False]])"
      ]
     },
     "execution_count": 33,
     "metadata": {},
     "output_type": "execute_result"
    }
   ],
   "source": [
    "np.log(r) * np.linalg.inv(A) == np.linalg.inv(r*A)"
   ]
  },
  {
   "cell_type": "code",
   "execution_count": 35,
   "id": "objective-radius",
   "metadata": {},
   "outputs": [
    {
     "data": {
      "text/plain": [
       "array([[ True,  True,  True,  True,  True],\n",
       "       [ True,  True,  True,  True,  True],\n",
       "       [ True,  True,  True,  True,  True],\n",
       "       [ True,  True,  True,  True,  True],\n",
       "       [ True,  True,  True,  True,  True]])"
      ]
     },
     "execution_count": 35,
     "metadata": {},
     "output_type": "execute_result"
    }
   ],
   "source": [
    "A * np.linalg.inv(A) ==  np.linalg.inv(A) * A"
   ]
  },
  {
   "cell_type": "code",
   "execution_count": 37,
   "id": "noted-bumper",
   "metadata": {},
   "outputs": [
    {
     "data": {
      "text/plain": [
       "array([[False, False, False, False, False],\n",
       "       [False, False, False, False, False],\n",
       "       [False, False, False, False, False],\n",
       "       [False, False, False, False, False],\n",
       "       [False, False, False, False, False]])"
      ]
     },
     "execution_count": 37,
     "metadata": {},
     "output_type": "execute_result"
    }
   ],
   "source": [
    "np.linalg.inv((A*B)) == np.linalg.inv(B) * np.linalg.inv(A)"
   ]
  },
  {
   "cell_type": "code",
   "execution_count": 39,
   "id": "honey-video",
   "metadata": {},
   "outputs": [
    {
     "data": {
      "text/plain": [
       "array([[ True,  True,  True,  True,  True],\n",
       "       [ True,  True,  True,  True,  True],\n",
       "       [ True,  True,  True,  True,  True],\n",
       "       [ True,  True,  True,  True,  True],\n",
       "       [ True,  True,  True,  True,  True]])"
      ]
     },
     "execution_count": 39,
     "metadata": {},
     "output_type": "execute_result"
    }
   ],
   "source": [
    "np.linalg.inv(I) == I"
   ]
  },
  {
   "cell_type": "code",
   "execution_count": 40,
   "id": "surrounded-hindu",
   "metadata": {},
   "outputs": [
    {
     "data": {
      "text/plain": [
       "array([[False, False, False, False, False],\n",
       "       [False,  True, False, False, False],\n",
       "       [False, False, False, False, False],\n",
       "       [False, False,  True,  True, False],\n",
       "       [False, False, False,  True, False]])"
      ]
     },
     "execution_count": 40,
     "metadata": {},
     "output_type": "execute_result"
    }
   ],
   "source": [
    "np.linalg.inv(A.T) == np.linalg.inv(A).T"
   ]
  },
  {
   "cell_type": "code",
   "execution_count": 44,
   "id": "handled-spell",
   "metadata": {},
   "outputs": [
    {
     "data": {
      "text/plain": [
       "array([[2., 2., 9., 3., 1.],\n",
       "       [5., 2., 2., 8., 3.],\n",
       "       [9., 9., 9., 8., 6.],\n",
       "       [2., 7., 4., 9., 9.],\n",
       "       [5., 6., 7., 4., 7.]])"
      ]
     },
     "execution_count": 44,
     "metadata": {},
     "output_type": "execute_result"
    }
   ],
   "source": [
    "np.linalg.inv(np.linalg.inv(A))"
   ]
  },
  {
   "cell_type": "code",
   "execution_count": 51,
   "id": "extreme-consortium",
   "metadata": {},
   "outputs": [],
   "source": [
    "x = np.arange(1,10,.1)"
   ]
  },
  {
   "cell_type": "code",
   "execution_count": 55,
   "id": "external-model",
   "metadata": {},
   "outputs": [
    {
     "data": {
      "text/plain": [
       "[0.0,\n",
       " 0.10000000000000009,\n",
       " 0.20000000000000018,\n",
       " 0.30000000000000027,\n",
       " 0.40000000000000036,\n",
       " 0.5000000000000004,\n",
       " 0.6000000000000005,\n",
       " 0.7000000000000006,\n",
       " 0.8000000000000007,\n",
       " 0.9000000000000008,\n",
       " 1.0000000000000009,\n",
       " 1.100000000000001,\n",
       " 1.200000000000001,\n",
       " 1.3000000000000012,\n",
       " 1.4000000000000012,\n",
       " 1.5000000000000013,\n",
       " 1.6000000000000014,\n",
       " 1.7000000000000015,\n",
       " 1.8000000000000016,\n",
       " 1.9000000000000017,\n",
       " 2.0000000000000018,\n",
       " 2.100000000000002,\n",
       " 2.200000000000002,\n",
       " 2.300000000000002,\n",
       " 2.400000000000002,\n",
       " 2.500000000000002,\n",
       " 2.6000000000000023,\n",
       " 2.7000000000000024,\n",
       " 2.8000000000000025,\n",
       " 2.9000000000000026,\n",
       " 3.0000000000000027,\n",
       " 3.100000000000003,\n",
       " 3.200000000000003,\n",
       " 3.3000000000000025,\n",
       " 3.400000000000003,\n",
       " 3.5000000000000036,\n",
       " 3.600000000000003,\n",
       " 3.700000000000003,\n",
       " 3.8000000000000034,\n",
       " 3.900000000000004,\n",
       " 4.0000000000000036,\n",
       " 4.100000000000003,\n",
       " 4.200000000000004,\n",
       " 4.300000000000004,\n",
       " 4.400000000000004,\n",
       " 4.5000000000000036,\n",
       " 4.600000000000004,\n",
       " 4.700000000000005,\n",
       " 4.800000000000004,\n",
       " 4.900000000000004,\n",
       " 5.000000000000004,\n",
       " 5.100000000000005,\n",
       " 5.200000000000005,\n",
       " 5.300000000000004,\n",
       " 5.400000000000005,\n",
       " 5.500000000000005,\n",
       " 5.600000000000005,\n",
       " 5.700000000000005,\n",
       " 5.800000000000005,\n",
       " 5.900000000000006,\n",
       " 6.000000000000005,\n",
       " 6.100000000000005,\n",
       " 6.2000000000000055,\n",
       " 6.300000000000006,\n",
       " 6.400000000000006,\n",
       " 6.500000000000005,\n",
       " 6.600000000000006,\n",
       " 6.700000000000006,\n",
       " 6.800000000000006,\n",
       " 6.900000000000006,\n",
       " 7.000000000000007,\n",
       " 7.100000000000007,\n",
       " 7.200000000000006,\n",
       " 7.300000000000006,\n",
       " 7.400000000000006,\n",
       " 7.500000000000007,\n",
       " 7.600000000000007,\n",
       " 7.700000000000006,\n",
       " 7.800000000000008,\n",
       " 7.9000000000000075,\n",
       " 8.000000000000007,\n",
       " 8.100000000000007,\n",
       " 8.200000000000006,\n",
       " 8.300000000000008,\n",
       " 8.400000000000007,\n",
       " 8.500000000000007,\n",
       " 8.600000000000009,\n",
       " 8.700000000000008,\n",
       " 8.800000000000008,\n",
       " 8.900000000000007]"
      ]
     },
     "execution_count": 55,
     "metadata": {},
     "output_type": "execute_result"
    }
   ],
   "source": [
    "def fun(x):\n",
    "    return x-1\n",
    "\n",
    "\n",
    "[i for i  in map(fun,x)]"
   ]
  }
 ],
 "metadata": {
  "kernelspec": {
   "display_name": "Python 3",
   "language": "python",
   "name": "python3"
  },
  "language_info": {
   "codemirror_mode": {
    "name": "ipython",
    "version": 3
   },
   "file_extension": ".py",
   "mimetype": "text/x-python",
   "name": "python",
   "nbconvert_exporter": "python",
   "pygments_lexer": "ipython3",
   "version": "3.8.8"
  }
 },
 "nbformat": 4,
 "nbformat_minor": 5
}
