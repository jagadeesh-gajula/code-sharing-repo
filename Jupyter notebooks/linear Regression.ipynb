{
 "cells": [
  {
   "cell_type": "code",
   "execution_count": 37,
   "metadata": {},
   "outputs": [],
   "source": [
    "import pandas as pd\n",
    "import numpy as np"
   ]
  },
  {
   "cell_type": "code",
   "execution_count": 38,
   "metadata": {},
   "outputs": [],
   "source": [
    "data = pd.read_csv('Housing.csv')"
   ]
  },
  {
   "cell_type": "code",
   "execution_count": 39,
   "metadata": {},
   "outputs": [],
   "source": [
    "data = pd.get_dummies(data)\n",
    "\n",
    "from sklearn.preprocessing import MinMaxScaler\n",
    "\n",
    "scaler = MinMaxScaler()\n",
    "\n"
   ]
  },
  {
   "cell_type": "code",
   "execution_count": 40,
   "metadata": {},
   "outputs": [],
   "source": [
    "y = data.price\n",
    "x = data.drop('price',axis=1)\n",
    "cols = x.columns\n"
   ]
  },
  {
   "cell_type": "code",
   "execution_count": 41,
   "metadata": {},
   "outputs": [],
   "source": [
    "from sklearn.model_selection import train_test_split\n",
    "\n",
    "x_train,x_test,y_train,y_test = train_test_split(x,y)"
   ]
  },
  {
   "cell_type": "code",
   "execution_count": 42,
   "metadata": {},
   "outputs": [
    {
     "data": {
      "text/plain": [
       "LinearRegression()"
      ]
     },
     "execution_count": 42,
     "metadata": {},
     "output_type": "execute_result"
    }
   ],
   "source": [
    "from sklearn.linear_model import LinearRegression\n",
    "\n",
    "linear = LinearRegression()\n",
    "\n",
    "linear.fit(x,y)"
   ]
  },
  {
   "cell_type": "code",
   "execution_count": 43,
   "metadata": {},
   "outputs": [
    {
     "data": {
      "text/plain": [
       "0.6437818069532474"
      ]
     },
     "execution_count": 43,
     "metadata": {},
     "output_type": "execute_result"
    }
   ],
   "source": [
    "pred = linear.predict(x_test)\n",
    "\n",
    "from sklearn.metrics import r2_score\n",
    "\n",
    "\n",
    "r2_score(pred,y_test)"
   ]
  },
  {
   "cell_type": "code",
   "execution_count": 44,
   "metadata": {
    "scrolled": true
   },
   "outputs": [
    {
     "data": {
      "text/plain": [
       "['area',\n",
       " 'bedrooms',\n",
       " 'bathrooms',\n",
       " 'stories',\n",
       " 'parking',\n",
       " 'mainroad_no',\n",
       " 'mainroad_yes',\n",
       " 'guestroom_no',\n",
       " 'basement_no',\n",
       " 'hotwaterheating_no',\n",
       " 'airconditioning_no',\n",
       " 'prefarea_no',\n",
       " 'furnishingstatus_furnished',\n",
       " 'furnishingstatus_semi-furnished',\n",
       " 'furnishingstatus_unfurnished']"
      ]
     },
     "execution_count": 44,
     "metadata": {},
     "output_type": "execute_result"
    }
   ],
   "source": [
    "from sklearn.feature_selection import RFE\n",
    "from sklearn.linear_model import LinearRegression,Ridge, Lasso\n",
    "\n",
    "model = Lasso()\n",
    "\n",
    "features = RFE(model,n_features_to_select = 15)\n",
    "\n",
    "features.fit(x,y)\n",
    "\n",
    "[feature for rank,support,feature in zip(features.ranking_,features.support_.tolist(),x.columns) if support == True]\n",
    "    \n"
   ]
  },
  {
   "cell_type": "code",
   "execution_count": 45,
   "metadata": {},
   "outputs": [
    {
     "name": "stdout",
     "output_type": "stream",
     "text": [
      "area 1.3252503552183241\n",
      "bedrooms 1.3694766581843776\n",
      "bathrooms 1.2866212561775863\n",
      "stories 1.4780547177366283\n",
      "parking 1.2128372545031885\n",
      "mainroad_no inf\n",
      "mainroad_yes inf\n",
      "guestroom_no inf\n",
      "guestroom_yes inf\n",
      "basement_no inf\n",
      "basement_yes inf\n",
      "hotwaterheating_no inf\n",
      "hotwaterheating_yes inf\n",
      "airconditioning_no inf\n",
      "airconditioning_yes inf\n",
      "prefarea_no inf\n",
      "prefarea_yes inf\n",
      "furnishingstatus_furnished inf\n",
      "furnishingstatus_semi-furnished inf\n",
      "furnishingstatus_unfurnished inf\n"
     ]
    },
    {
     "name": "stderr",
     "output_type": "stream",
     "text": [
      "C:\\Anaconda\\lib\\site-packages\\statsmodels\\stats\\outliers_influence.py:193: RuntimeWarning: divide by zero encountered in double_scalars\n",
      "  vif = 1. / (1. - r_squared_i)\n"
     ]
    }
   ],
   "source": [
    "from statsmodels.stats.outliers_influence import variance_inflation_factor\n",
    "\n",
    "x = x.values\n",
    "\n",
    "\n",
    "for column,vif in zip(cols,[variance_inflation_factor(x,i) for i in range(x.shape[1])]):\n",
    "    print(column,vif)"
   ]
  }
 ],
 "metadata": {
  "kernelspec": {
   "display_name": "Python 3",
   "language": "python",
   "name": "python3"
  },
  "language_info": {
   "codemirror_mode": {
    "name": "ipython",
    "version": 3
   },
   "file_extension": ".py",
   "mimetype": "text/x-python",
   "name": "python",
   "nbconvert_exporter": "python",
   "pygments_lexer": "ipython3",
   "version": "3.8.5"
  }
 },
 "nbformat": 4,
 "nbformat_minor": 4
}
