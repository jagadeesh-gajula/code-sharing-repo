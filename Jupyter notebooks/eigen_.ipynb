{
 "cells": [
  {
   "cell_type": "code",
   "execution_count": 1,
   "id": "quarterly-precipitation",
   "metadata": {},
   "outputs": [],
   "source": [
    "import numpy as np"
   ]
  },
  {
   "cell_type": "code",
   "execution_count": 7,
   "id": "excellent-disability",
   "metadata": {},
   "outputs": [],
   "source": [
    "a = np.random.randint(1,10,(5,5))"
   ]
  },
  {
   "cell_type": "code",
   "execution_count": 8,
   "id": "perceived-domain",
   "metadata": {},
   "outputs": [
    {
     "data": {
      "text/plain": [
       "(array([22.30334595+0.j        ,  6.69790172+0.j        ,\n",
       "         2.75331517+0.j        , -3.87728142+0.98703976j,\n",
       "        -3.87728142-0.98703976j]),\n",
       " array([[-0.33013457+0.j        , -0.03097807+0.j        ,\n",
       "         -0.10971964+0.j        , -0.25253003-0.45938527j,\n",
       "         -0.25253003+0.45938527j],\n",
       "        [-0.32122015+0.j        ,  0.29745195+0.j        ,\n",
       "         -0.65122044+0.j        , -0.33985302+0.45839373j,\n",
       "         -0.33985302-0.45839373j],\n",
       "        [-0.30972554+0.j        , -0.69995806+0.j        ,\n",
       "          0.35113559+0.j        ,  0.13831945+0.12241273j,\n",
       "          0.13831945-0.12241273j],\n",
       "        [-0.57203497+0.j        ,  0.37756536+0.j        ,\n",
       "          0.62938422+0.j        ,  0.03191061-0.058686j  ,\n",
       "          0.03191061+0.058686j  ],\n",
       "        [-0.60388315+0.j        ,  0.52731946+0.j        ,\n",
       "         -0.21083843+0.j        ,  0.60082393+0.j        ,\n",
       "          0.60082393-0.j        ]]))"
      ]
     },
     "execution_count": 8,
     "metadata": {},
     "output_type": "execute_result"
    }
   ],
   "source": [
    "np.linalg.eig(a)"
   ]
  },
  {
   "cell_type": "code",
   "execution_count": null,
   "id": "coral-inspection",
   "metadata": {},
   "outputs": [],
   "source": []
  }
 ],
 "metadata": {
  "kernelspec": {
   "display_name": "Python 3",
   "language": "python",
   "name": "python3"
  },
  "language_info": {
   "codemirror_mode": {
    "name": "ipython",
    "version": 3
   },
   "file_extension": ".py",
   "mimetype": "text/x-python",
   "name": "python",
   "nbconvert_exporter": "python",
   "pygments_lexer": "ipython3",
   "version": "3.8.8"
  }
 },
 "nbformat": 4,
 "nbformat_minor": 5
}
