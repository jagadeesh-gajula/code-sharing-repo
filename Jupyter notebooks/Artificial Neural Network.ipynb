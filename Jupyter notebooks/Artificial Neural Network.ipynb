{
 "cells": [
  {
   "cell_type": "code",
   "execution_count": 1,
   "metadata": {},
   "outputs": [],
   "source": [
    "import pandas as pd\n"
   ]
  },
  {
   "cell_type": "code",
   "execution_count": 61,
   "metadata": {},
   "outputs": [],
   "source": [
    "data = pd.read_csv('test_data_hidden.csv')"
   ]
  },
  {
   "cell_type": "code",
   "execution_count": 62,
   "metadata": {},
   "outputs": [],
   "source": [
    "y = data.Class\n",
    "x = data.drop('Class',axis=1)\n",
    "x = pd.get_dummies(x)"
   ]
  },
  {
   "cell_type": "code",
   "execution_count": 64,
   "metadata": {
    "scrolled": false
   },
   "outputs": [
    {
     "name": "stdout",
     "output_type": "stream",
     "text": [
      "Model: \"sequential_27\"\n",
      "_________________________________________________________________\n",
      "Layer (type)                 Output Shape              Param #   \n",
      "=================================================================\n",
      "dense_104 (Dense)            (None, 10)                310       \n",
      "_________________________________________________________________\n",
      "dense_105 (Dense)            (None, 50)                550       \n",
      "_________________________________________________________________\n",
      "dense_106 (Dense)            (None, 50)                2550      \n",
      "_________________________________________________________________\n",
      "dense_107 (Dense)            (None, 1)                 51        \n",
      "=================================================================\n",
      "Total params: 3,461\n",
      "Trainable params: 3,461\n",
      "Non-trainable params: 0\n",
      "_________________________________________________________________\n",
      "None\n",
      "Epoch 1/20\n",
      "5697/5697 [==============================] - 5s 860us/step - loss: 0.0153\n",
      "Epoch 2/20\n",
      "5697/5697 [==============================] - 5s 816us/step - loss: 0.0129\n",
      "Epoch 3/20\n",
      "5697/5697 [==============================] - 5s 869us/step - loss: 0.0128\n",
      "Epoch 4/20\n",
      "5697/5697 [==============================] - 5s 916us/step - loss: 0.0128\n",
      "Epoch 5/20\n",
      "5697/5697 [==============================] - 5s 823us/step - loss: 0.0128\n",
      "Epoch 6/20\n",
      "5697/5697 [==============================] - 5s 811us/step - loss: 0.0127\n",
      "Epoch 7/20\n",
      "5697/5697 [==============================] - 5s 882us/step - loss: 0.0129\n",
      "Epoch 8/20\n",
      "5697/5697 [==============================] - 5s 905us/step - loss: 0.0128\n",
      "Epoch 9/20\n",
      "5697/5697 [==============================] - 5s 871us/step - loss: 0.0128\n",
      "Epoch 10/20\n",
      "5697/5697 [==============================] - 5s 894us/step - loss: 0.0128\n",
      "Epoch 11/20\n",
      "5697/5697 [==============================] - 5s 867us/step - loss: 0.0129 0s - loss: 0.0\n",
      "Epoch 12/20\n",
      "5697/5697 [==============================] - 5s 868us/step - loss: 0.0128\n",
      "Epoch 13/20\n",
      "5697/5697 [==============================] - 4s 787us/step - loss: 0.0129\n",
      "Epoch 14/20\n",
      "5697/5697 [==============================] - 5s 810us/step - loss: 0.0129\n",
      "Epoch 15/20\n",
      "5697/5697 [==============================] - 5s 879us/step - loss: 0.0129\n",
      "Epoch 16/20\n",
      "5697/5697 [==============================] - 5s 896us/step - loss: 0.0129\n",
      "Epoch 17/20\n",
      "5697/5697 [==============================] - 5s 927us/step - loss: 0.0128\n",
      "Epoch 18/20\n",
      "5697/5697 [==============================] - 5s 899us/step - loss: 0.0129\n",
      "Epoch 19/20\n",
      "5697/5697 [==============================] - 5s 855us/step - loss: 0.0129\n",
      "Epoch 20/20\n",
      "5697/5697 [==============================] - 5s 876us/step - loss: 0.0129\n"
     ]
    },
    {
     "data": {
      "text/plain": [
       "<tensorflow.python.keras.callbacks.History at 0x17edf1ef520>"
      ]
     },
     "execution_count": 64,
     "metadata": {},
     "output_type": "execute_result"
    }
   ],
   "source": [
    "from tensorflow.keras.models import Sequential\n",
    "from tensorflow.keras.layers import Dense\n",
    "\n",
    "model = Sequential()\n",
    "model.add(Dense(10,input_dim=x.shape[1],activation='relu'))\n",
    "model.add(Dense(50,activation='sigmoid'))\n",
    "model.add(Dense(50,activation='tanh'))\n",
    "model.add(Dense(1,activation='sigmoid'))\n",
    "\n",
    "model.compile(optimizer='adam',loss='binary_crossentropy')\n",
    "\n",
    "print(model.summary())\n",
    "\n",
    "model.fit(x,y,epochs=20,verbose=1,batch_size=10)\n"
   ]
  }
 ],
 "metadata": {
  "kernelspec": {
   "display_name": "Python 3",
   "language": "python",
   "name": "python3"
  },
  "language_info": {
   "codemirror_mode": {
    "name": "ipython",
    "version": 3
   },
   "file_extension": ".py",
   "mimetype": "text/x-python",
   "name": "python",
   "nbconvert_exporter": "python",
   "pygments_lexer": "ipython3",
   "version": "3.8.3"
  }
 },
 "nbformat": 4,
 "nbformat_minor": 4
}
