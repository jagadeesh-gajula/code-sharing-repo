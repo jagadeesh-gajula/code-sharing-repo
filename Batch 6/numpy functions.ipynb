{
 "cells": [
  {
   "cell_type": "code",
   "execution_count": 2,
   "id": "hourly-hierarchy",
   "metadata": {},
   "outputs": [],
   "source": [
    "import numpy as np"
   ]
  },
  {
   "cell_type": "code",
   "execution_count": 15,
   "id": "educated-sheet",
   "metadata": {},
   "outputs": [],
   "source": [
    "x = np.random.random((5000,5000))\n",
    "#25000000"
   ]
  },
  {
   "cell_type": "code",
   "execution_count": 18,
   "id": "educational-duplicate",
   "metadata": {},
   "outputs": [
    {
     "name": "stdout",
     "output_type": "stream",
     "text": [
      "Wall time: 11.6 s\n"
     ]
    },
    {
     "data": {
      "text/plain": [
       "array([[17.0219621 , 17.36441174, 17.09376462, ..., 17.28168277,\n",
       "        17.89489128, 17.38571014],\n",
       "       [17.94486806, 17.30252519, 17.09596835, ..., 17.15458937,\n",
       "        17.82514904, 17.46859011],\n",
       "       [17.9030571 , 17.47941233, 17.968371  , ..., 17.1285524 ,\n",
       "        17.22230746, 17.01153544],\n",
       "       ...,\n",
       "       [17.00352716, 17.82876958, 17.01282427, ..., 17.05767927,\n",
       "        17.79000452, 17.00048477],\n",
       "       [17.72871174, 17.55823039, 17.11154825, ..., 17.62389899,\n",
       "        17.78617714, 17.6095419 ],\n",
       "       [17.00939959, 17.04743722, 17.40809847, ..., 17.86529551,\n",
       "        17.27480318, 17.20050918]])"
      ]
     },
     "execution_count": 18,
     "metadata": {},
     "output_type": "execute_result"
    }
   ],
   "source": [
    "%%time\n",
    "def fun(x):\n",
    "    return x**2 + 3 + 5 + 3 ** 2\n",
    "\n",
    "y = np.vectorize(fun)\n",
    "\n",
    "y(x)\n"
   ]
  },
  {
   "cell_type": "code",
   "execution_count": 6,
   "id": "electoral-priest",
   "metadata": {},
   "outputs": [
    {
     "data": {
      "text/plain": [
       "array([[0.76199803, 0.63086608, 0.71111022, 0.14480195, 0.64575514],\n",
       "       [0.41257972, 0.58905961, 0.68720543, 0.76952134, 0.68968106],\n",
       "       [0.81674657, 0.82911885, 0.68214412, 0.61276536, 0.05651543],\n",
       "       [0.24068861, 0.18296172, 0.36647398, 0.4791361 , 0.40861523],\n",
       "       [0.58736523, 0.34914779, 0.3733136 , 0.73358539, 0.06883037]])"
      ]
     },
     "execution_count": 6,
     "metadata": {},
     "output_type": "execute_result"
    }
   ],
   "source": [
    "np.sin(x)"
   ]
  },
  {
   "cell_type": "code",
   "execution_count": 7,
   "id": "noticed-calculator",
   "metadata": {},
   "outputs": [
    {
     "data": {
      "text/plain": [
       "array([[0.64757934, 0.77589174, 0.70308055, 0.98946066, 0.76354456],\n",
       "       [0.9109215 , 0.80808958, 0.72646314, 0.6386211 , 0.72411327],\n",
       "       [0.57699656, 0.55907238, 0.73121775, 0.7902649 , 0.99840173],\n",
       "       [0.97060239, 0.98312004, 0.9304283 , 0.87774062, 0.91270674],\n",
       "       [0.80932199, 0.93706767, 0.92770521, 0.67959729, 0.99762838]])"
      ]
     },
     "execution_count": 7,
     "metadata": {},
     "output_type": "execute_result"
    }
   ],
   "source": [
    "np.cos(x)"
   ]
  },
  {
   "cell_type": "code",
   "execution_count": 8,
   "id": "conceptual-agent",
   "metadata": {},
   "outputs": [
    {
     "data": {
      "text/plain": [
       "array([[2.37831659, 1.97915293, 2.20576862, 1.15640125, 2.01780819],\n",
       "       [1.53002525, 1.87741274, 2.1332256 , 2.40630238, 2.14051939],\n",
       "       [2.60061967, 2.65788249, 2.11846315, 1.93393184, 1.05817482],\n",
       "       [1.27516458, 1.20201364, 1.45530647, 1.64817764, 1.52338729],\n",
       "       [1.87348335, 1.42855223, 1.46605964, 2.27864916, 1.07131282]])"
      ]
     },
     "execution_count": 8,
     "metadata": {},
     "output_type": "execute_result"
    }
   ],
   "source": [
    "np.exp(x)"
   ]
  },
  {
   "cell_type": "code",
   "execution_count": 9,
   "id": "opened-conviction",
   "metadata": {},
   "outputs": [
    {
     "data": {
      "text/plain": [
       "-0.01186685859999639"
      ]
     },
     "execution_count": 9,
     "metadata": {},
     "output_type": "execute_result"
    }
   ],
   "source": [
    "np.linalg.det(x)"
   ]
  },
  {
   "cell_type": "code",
   "execution_count": 10,
   "id": "romantic-trunk",
   "metadata": {},
   "outputs": [
    {
     "data": {
      "text/plain": [
       "array([[  1.95840595,   0.50921052,  -2.14754038,  -4.47902329,\n",
       "          3.5488127 ],\n",
       "       [  1.00787305,   6.22482258,  -2.31720659, -13.11457295,\n",
       "          2.99771653],\n",
       "       [ -3.57283599, -10.22702092,   8.0611457 ,  25.01893189,\n",
       "        -10.10043997],\n",
       "       [ -0.44916783,   1.28404211,  -0.76778979,  -1.7292444 ,\n",
       "          1.58844419],\n",
       "       [  2.14649086,   4.57697943,  -4.02117227,  -9.55409797,\n",
       "          3.75817072]])"
      ]
     },
     "execution_count": 10,
     "metadata": {},
     "output_type": "execute_result"
    }
   ],
   "source": [
    "np.linalg.inv(x)"
   ]
  },
  {
   "cell_type": "code",
   "execution_count": 11,
   "id": "nutritional-album",
   "metadata": {},
   "outputs": [
    {
     "data": {
      "text/plain": [
       "(array([ 2.85321668+0.j        , -0.61538146+0.j        ,\n",
       "         0.25386274+0.17928368j,  0.25386274-0.17928368j,\n",
       "         0.0699728 +0.j        ]),\n",
       " array([[-0.52632423+0.j        ,  0.37336724+0.j        ,\n",
       "         -0.5337999 +0.05225894j, -0.5337999 -0.05225894j,\n",
       "          0.23764111+0.j        ],\n",
       "        [-0.49791068+0.j        ,  0.3809619 +0.j        ,\n",
       "          0.56719779+0.j        ,  0.56719779-0.j        ,\n",
       "          0.26560833+0.j        ],\n",
       "        [-0.55516095+0.j        , -0.63723737+0.j        ,\n",
       "         -0.06519128-0.47281078j, -0.06519128+0.47281078j,\n",
       "         -0.83967194+0.j        ],\n",
       "        [-0.24080695+0.j        ,  0.25649686+0.j        ,\n",
       "          0.11474163+0.23683112j,  0.11474163-0.23683112j,\n",
       "          0.09440566+0.j        ],\n",
       "        [-0.32996377+0.j        , -0.49356137+0.j        ,\n",
       "         -0.04944519+0.30185087j, -0.04944519-0.30185087j,\n",
       "          0.39877   +0.j        ]]))"
      ]
     },
     "execution_count": 11,
     "metadata": {},
     "output_type": "execute_result"
    }
   ],
   "source": [
    "np.linalg.eig(x)"
   ]
  },
  {
   "cell_type": "code",
   "execution_count": null,
   "id": "authorized-calendar",
   "metadata": {},
   "outputs": [],
   "source": []
  }
 ],
 "metadata": {
  "kernelspec": {
   "display_name": "Python 3",
   "language": "python",
   "name": "python3"
  },
  "language_info": {
   "codemirror_mode": {
    "name": "ipython",
    "version": 3
   },
   "file_extension": ".py",
   "mimetype": "text/x-python",
   "name": "python",
   "nbconvert_exporter": "python",
   "pygments_lexer": "ipython3",
   "version": "3.8.8"
  }
 },
 "nbformat": 4,
 "nbformat_minor": 5
}
