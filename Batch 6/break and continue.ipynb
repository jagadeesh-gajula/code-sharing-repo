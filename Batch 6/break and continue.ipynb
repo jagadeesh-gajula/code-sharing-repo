{
 "cells": [
  {
   "cell_type": "code",
   "execution_count": 13,
   "id": "social-tolerance",
   "metadata": {},
   "outputs": [
    {
     "name": "stdout",
     "output_type": "stream",
     "text": [
      "no such library\n"
     ]
    }
   ],
   "source": [
    "def div(x,y):\n",
    "    return x/y\n",
    "\n",
    "try:\n",
    "    import idontknowlibrary\n",
    "except:\n",
    "    print(\"no such library\")"
   ]
  },
  {
   "cell_type": "code",
   "execution_count": null,
   "id": "backed-hormone",
   "metadata": {},
   "outputs": [],
   "source": []
  }
 ],
 "metadata": {
  "kernelspec": {
   "display_name": "Python 3",
   "language": "python",
   "name": "python3"
  },
  "language_info": {
   "codemirror_mode": {
    "name": "ipython",
    "version": 3
   },
   "file_extension": ".py",
   "mimetype": "text/x-python",
   "name": "python",
   "nbconvert_exporter": "python",
   "pygments_lexer": "ipython3",
   "version": "3.8.8"
  }
 },
 "nbformat": 4,
 "nbformat_minor": 5
}
