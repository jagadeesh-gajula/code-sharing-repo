{
 "cells": [
  {
   "cell_type": "code",
   "execution_count": 15,
   "id": "greatest-delivery",
   "metadata": {},
   "outputs": [
    {
     "data": {
      "text/plain": [
       "'something else'"
      ]
     },
     "execution_count": 15,
     "metadata": {},
     "output_type": "execute_result"
    }
   ],
   "source": [
    "class version1:\n",
    "    def __init__(self):\n",
    "        self.name = \"something else\"\n",
    "        self.age = 23\n",
    "        \n",
    "class version2(version1):\n",
    "    \n",
    "    def __init__(self):\n",
    "        super().__init__()\n",
    "        self.new_name = \"new name\"\n",
    "\n",
    "\n",
    "class version3(version2):\n",
    "    def __init__(self):\n",
    "        super().__init__()\n",
    "        self.version_3_name = \"some new name \"\n",
    "\n",
    "obj = version3()\n",
    "\n",
    "obj.name"
   ]
  },
  {
   "cell_type": "code",
   "execution_count": 19,
   "id": "empirical-baker",
   "metadata": {},
   "outputs": [
    {
     "name": "stdout",
     "output_type": "stream",
     "text": [
      "this function comes from c1\n"
     ]
    }
   ],
   "source": [
    "class c1:\n",
    "    def __init__(self):\n",
    "        self.name_c1 = \"name from c1 class\"\n",
    "        \n",
    "    def function(self):\n",
    "        print(\"this function comes from c1\")\n",
    "        \n",
    "        \n",
    "class c2:\n",
    "    def __init__(self):\n",
    "        self.name_c2 = \"name from c2 class\"\n",
    "        \n",
    "        \n",
    "class c3(c1,c2):\n",
    "    def __init__(self):\n",
    "        super().__init__()\n",
    "        \n",
    "        \n",
    "obj =  c3()\n",
    "\n",
    "obj.function()"
   ]
  },
  {
   "cell_type": "code",
   "execution_count": 28,
   "id": "future-terrain",
   "metadata": {},
   "outputs": [
    {
     "name": "stdout",
     "output_type": "stream",
     "text": [
      "something else\n"
     ]
    }
   ],
   "source": [
    "class one:\n",
    "    name = \"one\"\n",
    "    \n",
    "    def fun(self):\n",
    "        print(\"ths code behaves differently\")\n",
    "    \n",
    "class two(one):\n",
    "    name = \"two\"\n",
    "    \n",
    "    def fun(self):\n",
    "        print(\"something else\")\n",
    "    \n",
    "\n",
    "obj = two()\n",
    "\n",
    "obj.fun()"
   ]
  }
 ],
 "metadata": {
  "kernelspec": {
   "display_name": "Python 3",
   "language": "python",
   "name": "python3"
  },
  "language_info": {
   "codemirror_mode": {
    "name": "ipython",
    "version": 3
   },
   "file_extension": ".py",
   "mimetype": "text/x-python",
   "name": "python",
   "nbconvert_exporter": "python",
   "pygments_lexer": "ipython3",
   "version": "3.8.8"
  }
 },
 "nbformat": 4,
 "nbformat_minor": 5
}
