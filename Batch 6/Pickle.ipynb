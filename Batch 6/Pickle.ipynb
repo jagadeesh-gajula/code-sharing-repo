{
 "cells": [
  {
   "cell_type": "code",
   "execution_count": 5,
   "id": "happy-potential",
   "metadata": {},
   "outputs": [],
   "source": [
    "import pickle\n",
    "import pyautogui\n",
    "\n",
    "\n",
    "obj = [1,2,3,4,5,6,7]\n",
    "\n",
    "\n",
    "file = open('my_obj','wb')\n",
    "\n",
    "\n",
    "pickle.dump(obj,file)\n",
    "\n",
    "\n",
    "file.close()\n"
   ]
  },
  {
   "cell_type": "code",
   "execution_count": null,
   "id": "compact-emission",
   "metadata": {},
   "outputs": [],
   "source": []
  }
 ],
 "metadata": {
  "kernelspec": {
   "display_name": "Python 3",
   "language": "python",
   "name": "python3"
  },
  "language_info": {
   "codemirror_mode": {
    "name": "ipython",
    "version": 3
   },
   "file_extension": ".py",
   "mimetype": "text/x-python",
   "name": "python",
   "nbconvert_exporter": "python",
   "pygments_lexer": "ipython3",
   "version": "3.8.8"
  }
 },
 "nbformat": 4,
 "nbformat_minor": 5
}
