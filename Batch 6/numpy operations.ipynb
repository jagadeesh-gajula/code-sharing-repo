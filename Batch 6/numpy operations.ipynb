{
 "cells": [
  {
   "cell_type": "code",
   "execution_count": 1,
   "id": "eight-retailer",
   "metadata": {},
   "outputs": [],
   "source": [
    "import numpy as np"
   ]
  },
  {
   "cell_type": "code",
   "execution_count": 15,
   "id": "intellectual-coordination",
   "metadata": {},
   "outputs": [],
   "source": [
    "scalar = 23\n",
    "vector = np.arange(0,5,(1))\n",
    "matrix = np.random.random((5,5))\n",
    "tensor = np.random.randint(1,10,(5,5,5))"
   ]
  },
  {
   "cell_type": "code",
   "execution_count": 7,
   "id": "infrared-heading",
   "metadata": {},
   "outputs": [
    {
     "data": {
      "text/plain": [
       "array([ 46. ,  48.3,  50.6,  52.9,  55.2,  57.5,  59.8,  62.1,  64.4,\n",
       "        66.7,  69. ,  71.3,  73.6,  75.9,  78.2,  80.5,  82.8,  85.1,\n",
       "        87.4,  89.7,  92. ,  94.3,  96.6,  98.9, 101.2, 103.5, 105.8,\n",
       "       108.1, 110.4, 112.7])"
      ]
     },
     "execution_count": 7,
     "metadata": {},
     "output_type": "execute_result"
    }
   ],
   "source": [
    "scalar * vector"
   ]
  },
  {
   "cell_type": "code",
   "execution_count": 11,
   "id": "undefined-kuwait",
   "metadata": {},
   "outputs": [
    {
     "data": {
      "text/plain": [
       "array([[  31.24308424,   39.81908129,  181.66604867,   63.42746815,\n",
       "         134.4103492 ],\n",
       "       [  23.449271  ,   60.4930758 ,   67.29980418,   60.72145141,\n",
       "          36.88355752],\n",
       "       [  48.64752916,  126.99813818, 1435.46712703,   72.952211  ,\n",
       "          29.37992708],\n",
       "       [  30.25285513,  212.20383086,   70.12810114,   28.00078031,\n",
       "          58.50103159],\n",
       "       [ 392.13117492,  687.82817812,  353.83530842,   34.21931436,\n",
       "          24.78893042]])"
      ]
     },
     "execution_count": 11,
     "metadata": {},
     "output_type": "execute_result"
    }
   ],
   "source": [
    "scalar / matrix"
   ]
  },
  {
   "cell_type": "code",
   "execution_count": 12,
   "id": "opposed-danger",
   "metadata": {},
   "outputs": [
    {
     "data": {
      "text/plain": [
       "array([[[31, 29, 32, 32, 30],\n",
       "        [25, 28, 32, 25, 25],\n",
       "        [31, 25, 27, 30, 31],\n",
       "        [29, 28, 31, 27, 29],\n",
       "        [26, 30, 28, 28, 32]],\n",
       "\n",
       "       [[30, 25, 31, 26, 25],\n",
       "        [30, 31, 25, 31, 26],\n",
       "        [28, 24, 31, 27, 24],\n",
       "        [24, 30, 25, 32, 29],\n",
       "        [25, 28, 30, 27, 31]],\n",
       "\n",
       "       [[30, 28, 24, 27, 28],\n",
       "        [31, 32, 29, 24, 29],\n",
       "        [25, 29, 26, 24, 26],\n",
       "        [32, 29, 30, 29, 32],\n",
       "        [32, 26, 24, 31, 27]],\n",
       "\n",
       "       [[24, 27, 31, 29, 26],\n",
       "        [30, 24, 25, 30, 31],\n",
       "        [30, 32, 28, 25, 29],\n",
       "        [24, 28, 27, 25, 30],\n",
       "        [28, 30, 30, 28, 28]],\n",
       "\n",
       "       [[28, 29, 27, 31, 28],\n",
       "        [32, 30, 30, 25, 27],\n",
       "        [26, 26, 27, 30, 28],\n",
       "        [29, 24, 27, 32, 28],\n",
       "        [26, 25, 24, 32, 24]]])"
      ]
     },
     "execution_count": 12,
     "metadata": {},
     "output_type": "execute_result"
    }
   ],
   "source": [
    "scalar + tensor"
   ]
  },
  {
   "cell_type": "code",
   "execution_count": 16,
   "id": "japanese-badge",
   "metadata": {},
   "outputs": [
    {
     "data": {
      "text/plain": [
       "array([[0.        , 0.0616568 , 1.29471986, 2.96392325, 2.90563021],\n",
       "       [0.        , 0.15686251, 0.95902495, 2.81260848, 1.90324665],\n",
       "       [0.        , 0.65548642, 0.71112253, 1.60783479, 3.28562348],\n",
       "       [0.        , 0.8978599 , 1.21848377, 2.30884903, 1.67042853],\n",
       "       [0.        , 0.93483213, 0.63918659, 1.6494374 , 0.30833269]])"
      ]
     },
     "execution_count": 16,
     "metadata": {},
     "output_type": "execute_result"
    }
   ],
   "source": [
    "vector * matrix"
   ]
  },
  {
   "cell_type": "code",
   "execution_count": 19,
   "id": "residential-radius",
   "metadata": {
    "scrolled": false
   },
   "outputs": [
    {
     "data": {
      "text/plain": [
       "array([[[ 0,  5, 14, 12,  4],\n",
       "        [ 0,  3, 18,  6, 36],\n",
       "        [ 0,  1, 18,  9, 12],\n",
       "        [ 0,  6, 10, 15, 36],\n",
       "        [ 0,  2,  8,  9, 24]],\n",
       "\n",
       "       [[ 0,  9, 10, 27, 28],\n",
       "        [ 0,  5, 16,  9, 32],\n",
       "        [ 0,  6,  2, 18, 32],\n",
       "        [ 0,  5, 16,  6,  8],\n",
       "        [ 0,  4, 14,  6, 20]],\n",
       "\n",
       "       [[ 0,  9,  6,  6, 32],\n",
       "        [ 0,  4, 16, 24, 12],\n",
       "        [ 0,  5,  2,  9, 24],\n",
       "        [ 0,  1, 10,  9, 20],\n",
       "        [ 0,  5,  4, 27, 32]],\n",
       "\n",
       "       [[ 0,  9,  2, 27,  4],\n",
       "        [ 0,  8,  2,  9, 12],\n",
       "        [ 0,  3, 16,  9, 32],\n",
       "        [ 0,  8, 10, 27, 36],\n",
       "        [ 0,  3, 16, 27,  8]],\n",
       "\n",
       "       [[ 0,  8, 14, 24,  8],\n",
       "        [ 0,  2,  2, 27,  8],\n",
       "        [ 0,  3, 10, 24, 20],\n",
       "        [ 0,  8, 12, 27, 36],\n",
       "        [ 0,  6, 12, 27, 24]]])"
      ]
     },
     "execution_count": 19,
     "metadata": {},
     "output_type": "execute_result"
    }
   ],
   "source": [
    "vector * tensor"
   ]
  },
  {
   "cell_type": "code",
   "execution_count": 21,
   "id": "unusual-snowboard",
   "metadata": {},
   "outputs": [
    {
     "data": {
      "text/plain": [
       "array([[[0., 0., 0., 0., 0.],\n",
       "        [0., 0., 0., 0., 0.],\n",
       "        [0., 0., 0., 0., 0.],\n",
       "        [0., 0., 0., 0., 0.],\n",
       "        [0., 0., 0., 0., 0.]],\n",
       "\n",
       "       [[0., 0., 0., 0., 0.],\n",
       "        [0., 0., 0., 0., 0.],\n",
       "        [0., 0., 0., 0., 0.],\n",
       "        [0., 0., 0., 0., 0.],\n",
       "        [0., 0., 0., 0., 0.]],\n",
       "\n",
       "       [[0., 0., 0., 0., 0.],\n",
       "        [0., 0., 0., 0., 0.],\n",
       "        [0., 0., 0., 0., 0.],\n",
       "        [0., 0., 0., 0., 0.],\n",
       "        [0., 0., 0., 0., 0.]],\n",
       "\n",
       "       [[0., 0., 0., 0., 0.],\n",
       "        [0., 0., 0., 0., 0.],\n",
       "        [0., 0., 0., 0., 0.],\n",
       "        [0., 0., 0., 0., 0.],\n",
       "        [0., 0., 0., 0., 0.]],\n",
       "\n",
       "       [[0., 0., 0., 0., 0.],\n",
       "        [0., 0., 0., 0., 0.],\n",
       "        [0., 0., 0., 0., 0.],\n",
       "        [0., 0., 0., 0., 0.],\n",
       "        [0., 0., 0., 0., 0.]]])"
      ]
     },
     "execution_count": 21,
     "metadata": {},
     "output_type": "execute_result"
    }
   ],
   "source": [
    "matrix // tensor"
   ]
  }
 ],
 "metadata": {
  "kernelspec": {
   "display_name": "Python 3",
   "language": "python",
   "name": "python3"
  },
  "language_info": {
   "codemirror_mode": {
    "name": "ipython",
    "version": 3
   },
   "file_extension": ".py",
   "mimetype": "text/x-python",
   "name": "python",
   "nbconvert_exporter": "python",
   "pygments_lexer": "ipython3",
   "version": "3.8.8"
  }
 },
 "nbformat": 4,
 "nbformat_minor": 5
}
