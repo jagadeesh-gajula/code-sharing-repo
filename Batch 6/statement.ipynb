{
 "cells": [
  {
   "cell_type": "code",
   "execution_count": 56,
   "id": "hired-groove",
   "metadata": {},
   "outputs": [],
   "source": [
    "name = \"somthing\"\n",
    "class dog:\n",
    "     \n",
    "    def __init__(self,name,fur,height,weight):\n",
    "        self.name = name\n",
    "        self.fur = fur\n",
    "        self.height = height\n",
    "        self.weight = weight\n",
    "    \n",
    "    def fun(self):\n",
    "        print(self.name)\n",
    "    \n"
   ]
  },
  {
   "cell_type": "code",
   "execution_count": 57,
   "id": "wicked-pontiac",
   "metadata": {},
   "outputs": [
    {
     "name": "stdout",
     "output_type": "stream",
     "text": [
      "tommy\n"
     ]
    }
   ],
   "source": [
    "mydog.fun()"
   ]
  }
 ],
 "metadata": {
  "kernelspec": {
   "display_name": "Python 3",
   "language": "python",
   "name": "python3"
  },
  "language_info": {
   "codemirror_mode": {
    "name": "ipython",
    "version": 3
   },
   "file_extension": ".py",
   "mimetype": "text/x-python",
   "name": "python",
   "nbconvert_exporter": "python",
   "pygments_lexer": "ipython3",
   "version": "3.8.8"
  }
 },
 "nbformat": 4,
 "nbformat_minor": 5
}
