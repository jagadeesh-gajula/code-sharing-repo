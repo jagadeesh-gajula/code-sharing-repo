{
 "cells": [
  {
   "cell_type": "code",
   "execution_count": 1,
   "id": "ff944925",
   "metadata": {},
   "outputs": [],
   "source": [
    "import pandas as pd\n",
    "import matplotlib.pyplot as plt\n",
    "import numpy as np \n",
    "import seaborn as sns\n"
   ]
  },
  {
   "cell_type": "code",
   "execution_count": 4,
   "id": "c77d4967",
   "metadata": {},
   "outputs": [],
   "source": [
    "data = pd.read_csv('usedcars.csv')"
   ]
  },
  {
   "cell_type": "code",
   "execution_count": 17,
   "id": "191d03a8",
   "metadata": {},
   "outputs": [],
   "source": [
    "a = data.drop('mileage',axis=1)\n",
    "y = data[['mileage']]"
   ]
  },
  {
   "cell_type": "code",
   "execution_count": 11,
   "id": "e22b7d92",
   "metadata": {},
   "outputs": [
    {
     "data": {
      "text/html": [
       "<div>\n",
       "<style scoped>\n",
       "    .dataframe tbody tr th:only-of-type {\n",
       "        vertical-align: middle;\n",
       "    }\n",
       "\n",
       "    .dataframe tbody tr th {\n",
       "        vertical-align: top;\n",
       "    }\n",
       "\n",
       "    .dataframe thead th {\n",
       "        text-align: right;\n",
       "    }\n",
       "</style>\n",
       "<table border=\"1\" class=\"dataframe\">\n",
       "  <thead>\n",
       "    <tr style=\"text-align: right;\">\n",
       "      <th></th>\n",
       "      <th>year</th>\n",
       "      <th>model</th>\n",
       "      <th>price</th>\n",
       "      <th>color</th>\n",
       "      <th>transmission</th>\n",
       "    </tr>\n",
       "  </thead>\n",
       "  <tbody>\n",
       "    <tr>\n",
       "      <th>0</th>\n",
       "      <td>2011</td>\n",
       "      <td>SEL</td>\n",
       "      <td>21992</td>\n",
       "      <td>Yellow</td>\n",
       "      <td>AUTO</td>\n",
       "    </tr>\n",
       "    <tr>\n",
       "      <th>1</th>\n",
       "      <td>2011</td>\n",
       "      <td>SEL</td>\n",
       "      <td>20995</td>\n",
       "      <td>Gray</td>\n",
       "      <td>AUTO</td>\n",
       "    </tr>\n",
       "    <tr>\n",
       "      <th>2</th>\n",
       "      <td>2011</td>\n",
       "      <td>SEL</td>\n",
       "      <td>19995</td>\n",
       "      <td>Silver</td>\n",
       "      <td>AUTO</td>\n",
       "    </tr>\n",
       "    <tr>\n",
       "      <th>3</th>\n",
       "      <td>2011</td>\n",
       "      <td>SEL</td>\n",
       "      <td>17809</td>\n",
       "      <td>Gray</td>\n",
       "      <td>AUTO</td>\n",
       "    </tr>\n",
       "    <tr>\n",
       "      <th>4</th>\n",
       "      <td>2012</td>\n",
       "      <td>SE</td>\n",
       "      <td>17500</td>\n",
       "      <td>White</td>\n",
       "      <td>AUTO</td>\n",
       "    </tr>\n",
       "  </tbody>\n",
       "</table>\n",
       "</div>"
      ],
      "text/plain": [
       "   year model  price   color transmission\n",
       "0  2011   SEL  21992  Yellow         AUTO\n",
       "1  2011   SEL  20995    Gray         AUTO\n",
       "2  2011   SEL  19995  Silver         AUTO\n",
       "3  2011   SEL  17809    Gray         AUTO\n",
       "4  2012    SE  17500   White         AUTO"
      ]
     },
     "execution_count": 11,
     "metadata": {},
     "output_type": "execute_result"
    }
   ],
   "source": [
    "a.head()"
   ]
  },
  {
   "cell_type": "code",
   "execution_count": 21,
   "id": "c78b85f4",
   "metadata": {},
   "outputs": [],
   "source": [
    "a = pd.get_dummies(a)"
   ]
  },
  {
   "cell_type": "code",
   "execution_count": 22,
   "id": "abc787b3",
   "metadata": {},
   "outputs": [
    {
     "data": {
      "text/plain": [
       "(150, 16)"
      ]
     },
     "execution_count": 22,
     "metadata": {},
     "output_type": "execute_result"
    }
   ],
   "source": [
    "a.shape"
   ]
  },
  {
   "cell_type": "code",
   "execution_count": 37,
   "id": "d91261ca",
   "metadata": {},
   "outputs": [],
   "source": [
    "x = np.zeros((16,1))\n",
    "lr = 0.001\n",
    "m = 150"
   ]
  },
  {
   "cell_type": "code",
   "execution_count": 41,
   "id": "1d2b0b39",
   "metadata": {},
   "outputs": [],
   "source": [
    "pred = np.dot(a,x)\n",
    "error = pred - y\n",
    "cost = (1/m) * \n",
    "gradient = 1/m * np.dot(a.T,error)\n",
    "x = x - (lr * gradient)"
   ]
  }
 ],
 "metadata": {
  "kernelspec": {
   "display_name": "Python 3",
   "language": "python",
   "name": "python3"
  },
  "language_info": {
   "codemirror_mode": {
    "name": "ipython",
    "version": 3
   },
   "file_extension": ".py",
   "mimetype": "text/x-python",
   "name": "python",
   "nbconvert_exporter": "python",
   "pygments_lexer": "ipython3",
   "version": "3.8.8"
  }
 },
 "nbformat": 4,
 "nbformat_minor": 5
}
